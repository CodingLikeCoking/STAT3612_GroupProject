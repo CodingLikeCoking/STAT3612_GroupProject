{
 "cells": [
  {
   "cell_type": "code",
   "execution_count": 1,
   "metadata": {},
   "outputs": [],
   "source": [
    "import pandas as pd\n",
    "import numpy as np"
   ]
  },
  {
   "cell_type": "code",
   "execution_count": 36,
   "metadata": {},
   "outputs": [],
   "source": [
    "X_train = pd.read_csv(\"./Datasets/X_train.csv\", index_col=[0], header=[0, 1, 2])\n",
    "y_train = pd.read_csv(\"./Datasets/Y_train.csv\", index_col=[0], header=[0])\n",
    "X_valid = pd.read_csv(\"./Datasets/X_valid.csv\", index_col=[0], header=[0, 1, 2])\n",
    "y_valid = pd.read_csv(\"./Datasets/Y_valid.csv\", index_col=[0], header=[0])\n",
    "X_test = pd.read_csv(\"./Datasets/X_test.csv\", index_col=[0], header=[0, 1, 2])\n",
    "\n",
    "y_train = np.array(y_train).reshape(-1)\n",
    "y_valid = np.array(y_valid).reshape(-1)"
   ]
  },
  {
   "cell_type": "code",
   "execution_count": 6,
   "metadata": {},
   "outputs": [
    {
     "name": "stdout",
     "output_type": "stream",
     "text": [
      "(16760, 7488)\n",
      "(2394, 7488)\n",
      "(16760,)\n",
      "(2394,)\n"
     ]
    }
   ],
   "source": [
    "print(X_train.shape)\n",
    "print(X_valid.shape)\n",
    "print(y_train.shape)\n",
    "print(y_valid.shape)"
   ]
  },
  {
   "cell_type": "code",
   "execution_count": 7,
   "metadata": {},
   "outputs": [
    {
     "name": "stdout",
     "output_type": "stream",
     "text": [
      "0.07309069212410502\n",
      "0.06349206349206349\n"
     ]
    }
   ],
   "source": [
    "print(sum(y_train)/len(y_train))\n",
    "print(sum(y_valid)/len(y_valid))"
   ]
  },
  {
   "cell_type": "code",
   "execution_count": 8,
   "metadata": {},
   "outputs": [
    {
     "data": {
      "text/plain": [
       "13.681632653061223"
      ]
     },
     "execution_count": 8,
     "metadata": {},
     "output_type": "execute_result"
    }
   ],
   "source": [
    "scale_pos_weight = 1/(sum(y_train)/len(y_train))\n",
    "scale_pos_weight"
   ]
  },
  {
   "cell_type": "code",
   "execution_count": 103,
   "metadata": {},
   "outputs": [
    {
     "name": "stderr",
     "output_type": "stream",
     "text": [
      "/userhome/cs2/cahu/anaconda3/envs/stat3612/lib/python3.7/site-packages/joblib/externals/loky/process_executor.py:703: UserWarning: A worker stopped while some jobs were given to the executor. This can be caused by a too short worker timeout or by a memory leak.\n",
      "  \"timeout or by a memory leak.\", UserWarning\n",
      "/userhome/cs2/cahu/anaconda3/envs/stat3612/lib/python3.7/site-packages/sklearn/model_selection/_validation.py:372: FitFailedWarning: \n",
      "3 fits failed out of a total of 405.\n",
      "The score on these train-test partitions for these parameters will be set to nan.\n",
      "If these failures are not expected, you can try to debug them by setting error_score='raise'.\n",
      "\n",
      "Below are more details about the failures:\n",
      "--------------------------------------------------------------------------------\n",
      "1 fits failed with the following error:\n",
      "Traceback (most recent call last):\n",
      "  File \"/userhome/cs2/cahu/anaconda3/envs/stat3612/lib/python3.7/site-packages/sklearn/model_selection/_validation.py\", line 680, in _fit_and_score\n",
      "    estimator.fit(X_train, y_train, **fit_params)\n",
      "  File \"/userhome/cs2/cahu/anaconda3/envs/stat3612/lib/python3.7/site-packages/xgboost/core.py\", line 506, in inner_f\n",
      "    return f(**kwargs)\n",
      "  File \"/userhome/cs2/cahu/anaconda3/envs/stat3612/lib/python3.7/site-packages/xgboost/sklearn.py\", line 1261, in fit\n",
      "    callbacks=callbacks,\n",
      "  File \"/userhome/cs2/cahu/anaconda3/envs/stat3612/lib/python3.7/site-packages/xgboost/training.py\", line 196, in train\n",
      "    early_stopping_rounds=early_stopping_rounds)\n",
      "  File \"/userhome/cs2/cahu/anaconda3/envs/stat3612/lib/python3.7/site-packages/xgboost/training.py\", line 81, in _train_internal\n",
      "    bst.update(dtrain, i, obj)\n",
      "  File \"/userhome/cs2/cahu/anaconda3/envs/stat3612/lib/python3.7/site-packages/xgboost/core.py\", line 1682, in update\n",
      "    dtrain.handle))\n",
      "  File \"/userhome/cs2/cahu/anaconda3/envs/stat3612/lib/python3.7/site-packages/xgboost/core.py\", line 218, in _check_call\n",
      "    raise XGBoostError(py_str(_LIB.XGBGetLastError()))\n",
      "xgboost.core.XGBoostError: [17:20:24] /home/conda/feedstock_root/build_artifacts/xgboost-split_1645117836726/work/src/tree/updater_gpu_hist.cu:770: Exception in gpu_hist: [17:20:23] /home/conda/feedstock_root/build_artifacts/xgboost-split_1645117836726/work/src/c_api/../data/../common/device_helpers.cuh:428: Memory allocation error on worker 0: Caching allocator\n",
      "- Free memory: 396951552\n",
      "- Requested memory: 803585279\n",
      "\n",
      "Stack trace:\n",
      "  [bt] (0) /userhome/cs2/cahu/anaconda3/envs/stat3612/lib/libxgboost.so(+0x437294) [0x146845b79294]\n",
      "  [bt] (1) /userhome/cs2/cahu/anaconda3/envs/stat3612/lib/libxgboost.so(dh::detail::ThrowOOMError(std::__cxx11::basic_string<char, std::char_traits<char>, std::allocator<char> > const&, unsigned long)+0x3cc) [0x146845b7c39c]\n",
      "  [bt] (2) /userhome/cs2/cahu/anaconda3/envs/stat3612/lib/libxgboost.so(void thrust::cuda_cub::sort<thrust::detail::execute_with_allocator<dh::detail::XGBCachingDeviceAllocatorImpl<char>&, thrust::cuda_cub::execute_on_stream_base>, thrust::detail::normal_iterator<thrust::device_ptr<xgboost::Entry> >, xgboost::common::detail::EntryCompareOp>(thrust::cuda_cub::execution_policy<thrust::detail::execute_with_allocator<dh::detail::XGBCachingDeviceAllocatorImpl<char>&, thrust::cuda_cub::execute_on_stream_base> >&, thrust::detail::normal_iterator<thrust::device_ptr<xgboost::Entry> >, thrust::detail::normal_iterator<thrust::device_ptr<xgboost::Entry> >, xgboost::common::detail::EntryCompareOp)+0x111e) [0x146845b9330e]\n",
      "  [bt] (3) /userhome/cs2/cahu/anaconda3/envs/stat3612/lib/libxgboost.so(xgboost::common::ProcessBatch(int, xgboost::MetaInfo const&, xgboost::SparsePage const&, unsigned long, unsigned long, xgboost::common::SketchContainer*, int, unsigned long)+0xc6) [0x146845b89c96]\n",
      "  [bt] (4) /userhome/cs2/cahu/anaconda3/envs/stat3612/lib/libxgboost.so(xgboost::common::DeviceSketch(int, xgboost::DMatrix*, int, unsigned long)+0x596) [0x146845b8b6e6]\n",
      "  [bt] (5) /userhome/cs2/cahu/anaconda3/envs/stat3612/lib/libxgboost.so(xgboost::EllpackPageImpl::EllpackPageImpl(xgboost::DMatrix*, xgboost::BatchParam const&)+0x1b6) [0x146845bf9ad6]\n",
      "  [bt] (6) /userhome/cs2/cahu/anaconda3/envs/stat3612/lib/libxgboost.so(xgboost::EllpackPage::EllpackPage(xgboost::DMatrix*, xgboost::BatchParam const&)+0x2e) [0x146845bfa13e]\n",
      "  [bt] (7) /userhome/cs2/cahu/anaconda3/envs/stat3612/lib/libxgboost.so(xgboost::data::SimpleDMatrix::GetEllpackBatches(xgboost::BatchParam const&)+0x3e5) [0x1468459a1665]\n",
      "  [bt] (8) /userhome/cs2/cahu/anaconda3/envs/stat3612/lib/libxgboost.so(xgboost::tree::GPUHistMakerSpecialised<xgboost::detail::GradientPairInternal<double> >::InitDataOnce(xgboost::DMatrix*)+0x1a7) [0x146845dceb57]\n",
      "\n",
      "\n",
      "\n",
      "Stack trace:\n",
      "  [bt] (0) /userhome/cs2/cahu/anaconda3/envs/stat3612/lib/libxgboost.so(+0x677df4) [0x146845db9df4]\n",
      "  [bt] (1) /userhome/cs2/cahu/anaconda3/envs/stat3612/lib/libxgboost.so(xgboost::tree::GPUHistMakerSpecialised<xgboost::detail::GradientPairInternal<double> >::Update(xgboost::HostDeviceVector<xgboost::detail::GradientPairInternal<float> >*, xgboost::DMatrix*, std::vector<xgboost::RegTree*, std::allocator<xgboost::RegTree*> > const&)+0x963) [0x146845ddd343]\n",
      "  [bt] (2) /userhome/cs2/cahu/anaconda3/envs/stat3612/lib/libxgboost.so(xgboost::gbm::GBTree::BoostNewTrees(xgboost::HostDeviceVector<xgboost::detail::GradientPairInternal<float> >*, xgboost::DMatrix*, int, std::vector<std::unique_ptr<xgboost::RegTree, std::default_delete<xgboost::RegTree> >, std::allocator<std::unique_ptr<xgboost::RegTree, std::default_delete<xgboost::RegTree> > > >*)+0xa34) [0x1468459e4904]\n",
      "  [bt] (3) /userhome/cs2/cahu/anaconda3/envs/stat3612/lib/libxgboost.so(xgboost::gbm::GBTree::DoBoost(xgboost::DMatrix*, xgboost::HostDeviceVector<xgboost::detail::GradientPairInternal<float> >*, xgboost::PredictionCacheEntry*)+0x358) [0x1468459e7e98]\n",
      "  [bt] (4) /userhome/cs2/cahu/anaconda3/envs/stat3612/lib/libxgboost.so(+0x2c297a) [0x146845a0497a]\n",
      "  [bt] (5) /userhome/cs2/cahu/anaconda3/envs/stat3612/lib/libxgboost.so(XGBoosterUpdateOneIter+0x7b) [0x1468458f1edb]\n",
      "  [bt] (6) /userhome/cs2/cahu/anaconda3/envs/stat3612/lib/python3.7/lib-dynload/../../libffi.so.8(+0xa052) [0x1468824cb052]\n",
      "  [bt] (7) /userhome/cs2/cahu/anaconda3/envs/stat3612/lib/python3.7/lib-dynload/../../libffi.so.8(+0x88cd) [0x1468824c98cd]\n",
      "  [bt] (8) /userhome/cs2/cahu/anaconda3/envs/stat3612/lib/python3.7/lib-dynload/_ctypes.cpython-37m-x86_64-linux-gnu.so(_ctypes_callproc+0x2f7) [0x1468824e1287]\n",
      "\n",
      "\n",
      "\n",
      "--------------------------------------------------------------------------------\n",
      "1 fits failed with the following error:\n",
      "Traceback (most recent call last):\n",
      "  File \"/userhome/cs2/cahu/anaconda3/envs/stat3612/lib/python3.7/site-packages/sklearn/model_selection/_validation.py\", line 680, in _fit_and_score\n",
      "    estimator.fit(X_train, y_train, **fit_params)\n",
      "  File \"/userhome/cs2/cahu/anaconda3/envs/stat3612/lib/python3.7/site-packages/xgboost/core.py\", line 506, in inner_f\n",
      "    return f(**kwargs)\n",
      "  File \"/userhome/cs2/cahu/anaconda3/envs/stat3612/lib/python3.7/site-packages/xgboost/sklearn.py\", line 1261, in fit\n",
      "    callbacks=callbacks,\n",
      "  File \"/userhome/cs2/cahu/anaconda3/envs/stat3612/lib/python3.7/site-packages/xgboost/training.py\", line 196, in train\n",
      "    early_stopping_rounds=early_stopping_rounds)\n",
      "  File \"/userhome/cs2/cahu/anaconda3/envs/stat3612/lib/python3.7/site-packages/xgboost/training.py\", line 81, in _train_internal\n",
      "    bst.update(dtrain, i, obj)\n",
      "  File \"/userhome/cs2/cahu/anaconda3/envs/stat3612/lib/python3.7/site-packages/xgboost/core.py\", line 1682, in update\n",
      "    dtrain.handle))\n",
      "  File \"/userhome/cs2/cahu/anaconda3/envs/stat3612/lib/python3.7/site-packages/xgboost/core.py\", line 218, in _check_call\n",
      "    raise XGBoostError(py_str(_LIB.XGBGetLastError()))\n",
      "xgboost.core.XGBoostError: [17:48:21] /home/conda/feedstock_root/build_artifacts/xgboost-split_1645117836726/work/src/tree/updater_gpu_hist.cu:770: Exception in gpu_hist: [17:48:21] /home/conda/feedstock_root/build_artifacts/xgboost-split_1645117836726/work/src/c_api/../data/../common/device_helpers.cuh:428: Memory allocation error on worker 0: std::bad_alloc: cudaErrorMemoryAllocation: out of memory\n",
      "- Free memory: 520683520\n",
      "- Requested memory: 676884480\n",
      "\n",
      "Stack trace:\n",
      "  [bt] (0) /userhome/cs2/cahu/anaconda3/envs/stat3612/lib/libxgboost.so(+0x437294) [0x14b490f51294]\n",
      "  [bt] (1) /userhome/cs2/cahu/anaconda3/envs/stat3612/lib/libxgboost.so(dh::detail::ThrowOOMError(std::__cxx11::basic_string<char, std::char_traits<char>, std::allocator<char> > const&, unsigned long)+0x3cc) [0x14b490f5439c]\n",
      "  [bt] (2) /userhome/cs2/cahu/anaconda3/envs/stat3612/lib/libxgboost.so(thrust::detail::vector_base<double, dh::detail::XGBDefaultDeviceAllocatorImpl<double> >::append(unsigned long)+0x29c) [0x14b4911a836c]\n",
      "  [bt] (3) /userhome/cs2/cahu/anaconda3/envs/stat3612/lib/libxgboost.so(xgboost::tree::DeviceHistogram<xgboost::detail::GradientPairInternal<double>, 67108864ul>::AllocateHistogram(int)+0x3cc) [0x14b4911ac33c]\n",
      "  [bt] (4) /userhome/cs2/cahu/anaconda3/envs/stat3612/lib/libxgboost.so(xgboost::tree::GPUHistMakerDevice<xgboost::detail::GradientPairInternal<double> >::UpdateTree(xgboost::HostDeviceVector<xgboost::detail::GradientPairInternal<float> >*, xgboost::DMatrix*, xgboost::RegTree*, dh::AllReducer*)+0x7ba) [0x14b4911b381a]\n",
      "  [bt] (5) /userhome/cs2/cahu/anaconda3/envs/stat3612/lib/libxgboost.so(xgboost::tree::GPUHistMakerSpecialised<xgboost::detail::GradientPairInternal<double> >::Update(xgboost::HostDeviceVector<xgboost::detail::GradientPairInternal<float> >*, xgboost::DMatrix*, std::vector<xgboost::RegTree*, std::allocator<xgboost::RegTree*> > const&)+0x144) [0x14b4911b4b24]\n",
      "  [bt] (6) /userhome/cs2/cahu/anaconda3/envs/stat3612/lib/libxgboost.so(xgboost::gbm::GBTree::BoostNewTrees(xgboost::HostDeviceVector<xgboost::detail::GradientPairInternal<float> >*, xgboost::DMatrix*, int, std::vector<std::unique_ptr<xgboost::RegTree, std::default_delete<xgboost::RegTree> >, std::allocator<std::unique_ptr<xgboost::RegTree, std::default_delete<xgboost::RegTree> > > >*)+0xa34) [0x14b490dbc904]\n",
      "  [bt] (7) /userhome/cs2/cahu/anaconda3/envs/stat3612/lib/libxgboost.so(xgboost::gbm::GBTree::DoBoost(xgboost::DMatrix*, xgboost::HostDeviceVector<xgboost::detail::GradientPairInternal<float> >*, xgboost::PredictionCacheEntry*)+0x358) [0x14b490dbfe98]\n",
      "  [bt] (8) /userhome/cs2/cahu/anaconda3/envs/stat3612/lib/libxgboost.so(+0x2c297a) [0x14b490ddc97a]\n",
      "\n",
      "\n",
      "\n",
      "Stack trace:\n",
      "  [bt] (0) /userhome/cs2/cahu/anaconda3/envs/stat3612/lib/libxgboost.so(+0x677df4) [0x14b491191df4]\n",
      "  [bt] (1) /userhome/cs2/cahu/anaconda3/envs/stat3612/lib/libxgboost.so(xgboost::tree::GPUHistMakerSpecialised<xgboost::detail::GradientPairInternal<double> >::Update(xgboost::HostDeviceVector<xgboost::detail::GradientPairInternal<float> >*, xgboost::DMatrix*, std::vector<xgboost::RegTree*, std::allocator<xgboost::RegTree*> > const&)+0x963) [0x14b4911b5343]\n",
      "  [bt] (2) /userhome/cs2/cahu/anaconda3/envs/stat3612/lib/libxgboost.so(xgboost::gbm::GBTree::BoostNewTrees(xgboost::HostDeviceVector<xgboost::detail::GradientPairInternal<float> >*, xgboost::DMatrix*, int, std::vector<std::unique_ptr<xgboost::RegTree, std::default_delete<xgboost::RegTree> >, std::allocator<std::unique_ptr<xgboost::RegTree, std::default_delete<xgboost::RegTree> > > >*)+0xa34) [0x14b490dbc904]\n",
      "  [bt] (3) /userhome/cs2/cahu/anaconda3/envs/stat3612/lib/libxgboost.so(xgboost::gbm::GBTree::DoBoost(xgboost::DMatrix*, xgboost::HostDeviceVector<xgboost::detail::GradientPairInternal<float> >*, xgboost::PredictionCacheEntry*)+0x358) [0x14b490dbfe98]\n",
      "  [bt] (4) /userhome/cs2/cahu/anaconda3/envs/stat3612/lib/libxgboost.so(+0x2c297a) [0x14b490ddc97a]\n",
      "  [bt] (5) /userhome/cs2/cahu/anaconda3/envs/stat3612/lib/libxgboost.so(XGBoosterUpdateOneIter+0x7b) [0x14b490cc9edb]\n",
      "  [bt] (6) /userhome/cs2/cahu/anaconda3/envs/stat3612/lib/python3.7/lib-dynload/../../libffi.so.8(+0xa052) [0x14b4cd863052]\n",
      "  [bt] (7) /userhome/cs2/cahu/anaconda3/envs/stat3612/lib/python3.7/lib-dynload/../../libffi.so.8(+0x88cd) [0x14b4cd8618cd]\n",
      "  [bt] (8) /userhome/cs2/cahu/anaconda3/envs/stat3612/lib/python3.7/lib-dynload/_ctypes.cpython-37m-x86_64-linux-gnu.so(_ctypes_callproc+0x2f7) [0x14b4cd879287]\n",
      "\n",
      "\n",
      "\n",
      "--------------------------------------------------------------------------------\n",
      "1 fits failed with the following error:\n",
      "Traceback (most recent call last):\n",
      "  File \"/userhome/cs2/cahu/anaconda3/envs/stat3612/lib/python3.7/site-packages/sklearn/model_selection/_validation.py\", line 680, in _fit_and_score\n",
      "    estimator.fit(X_train, y_train, **fit_params)\n",
      "  File \"/userhome/cs2/cahu/anaconda3/envs/stat3612/lib/python3.7/site-packages/xgboost/core.py\", line 506, in inner_f\n",
      "    return f(**kwargs)\n",
      "  File \"/userhome/cs2/cahu/anaconda3/envs/stat3612/lib/python3.7/site-packages/xgboost/sklearn.py\", line 1261, in fit\n",
      "    callbacks=callbacks,\n",
      "  File \"/userhome/cs2/cahu/anaconda3/envs/stat3612/lib/python3.7/site-packages/xgboost/training.py\", line 196, in train\n",
      "    early_stopping_rounds=early_stopping_rounds)\n",
      "  File \"/userhome/cs2/cahu/anaconda3/envs/stat3612/lib/python3.7/site-packages/xgboost/training.py\", line 81, in _train_internal\n",
      "    bst.update(dtrain, i, obj)\n",
      "  File \"/userhome/cs2/cahu/anaconda3/envs/stat3612/lib/python3.7/site-packages/xgboost/core.py\", line 1682, in update\n",
      "    dtrain.handle))\n",
      "  File \"/userhome/cs2/cahu/anaconda3/envs/stat3612/lib/python3.7/site-packages/xgboost/core.py\", line 218, in _check_call\n",
      "    raise XGBoostError(py_str(_LIB.XGBGetLastError()))\n",
      "xgboost.core.XGBoostError: [17:48:20] /home/conda/feedstock_root/build_artifacts/xgboost-split_1645117836726/work/src/tree/updater_gpu_hist.cu:770: Exception in gpu_hist: [17:48:19] /home/conda/feedstock_root/build_artifacts/xgboost-split_1645117836726/work/src/c_api/../data/../common/device_helpers.cuh:428: Memory allocation error on worker 0: Caching allocator\n",
      "- Free memory: 172556288\n",
      "- Requested memory: 653188863\n",
      "\n",
      "Stack trace:\n",
      "  [bt] (0) /userhome/cs2/cahu/anaconda3/envs/stat3612/lib/libxgboost.so(+0x437294) [0x14613f391294]\n",
      "  [bt] (1) /userhome/cs2/cahu/anaconda3/envs/stat3612/lib/libxgboost.so(dh::detail::ThrowOOMError(std::__cxx11::basic_string<char, std::char_traits<char>, std::allocator<char> > const&, unsigned long)+0x3cc) [0x14613f39439c]\n",
      "  [bt] (2) /userhome/cs2/cahu/anaconda3/envs/stat3612/lib/libxgboost.so(void thrust::cuda_cub::sort<thrust::detail::execute_with_allocator<dh::detail::XGBCachingDeviceAllocatorImpl<char>&, thrust::cuda_cub::execute_on_stream_base>, thrust::detail::normal_iterator<thrust::device_ptr<xgboost::Entry> >, xgboost::common::detail::EntryCompareOp>(thrust::cuda_cub::execution_policy<thrust::detail::execute_with_allocator<dh::detail::XGBCachingDeviceAllocatorImpl<char>&, thrust::cuda_cub::execute_on_stream_base> >&, thrust::detail::normal_iterator<thrust::device_ptr<xgboost::Entry> >, thrust::detail::normal_iterator<thrust::device_ptr<xgboost::Entry> >, xgboost::common::detail::EntryCompareOp)+0x111e) [0x14613f3ab30e]\n",
      "  [bt] (3) /userhome/cs2/cahu/anaconda3/envs/stat3612/lib/libxgboost.so(xgboost::common::ProcessBatch(int, xgboost::MetaInfo const&, xgboost::SparsePage const&, unsigned long, unsigned long, xgboost::common::SketchContainer*, int, unsigned long)+0xc6) [0x14613f3a1c96]\n",
      "  [bt] (4) /userhome/cs2/cahu/anaconda3/envs/stat3612/lib/libxgboost.so(xgboost::common::DeviceSketch(int, xgboost::DMatrix*, int, unsigned long)+0x596) [0x14613f3a36e6]\n",
      "  [bt] (5) /userhome/cs2/cahu/anaconda3/envs/stat3612/lib/libxgboost.so(xgboost::EllpackPageImpl::EllpackPageImpl(xgboost::DMatrix*, xgboost::BatchParam const&)+0x1b6) [0x14613f411ad6]\n",
      "  [bt] (6) /userhome/cs2/cahu/anaconda3/envs/stat3612/lib/libxgboost.so(xgboost::EllpackPage::EllpackPage(xgboost::DMatrix*, xgboost::BatchParam const&)+0x2e) [0x14613f41213e]\n",
      "  [bt] (7) /userhome/cs2/cahu/anaconda3/envs/stat3612/lib/libxgboost.so(xgboost::data::SimpleDMatrix::GetEllpackBatches(xgboost::BatchParam const&)+0x3e5) [0x14613f1b9665]\n",
      "  [bt] (8) /userhome/cs2/cahu/anaconda3/envs/stat3612/lib/libxgboost.so(xgboost::tree::GPUHistMakerSpecialised<xgboost::detail::GradientPairInternal<double> >::InitDataOnce(xgboost::DMatrix*)+0x1a7) [0x14613f5e6b57]\n",
      "\n",
      "\n",
      "\n",
      "Stack trace:\n",
      "  [bt] (0) /userhome/cs2/cahu/anaconda3/envs/stat3612/lib/libxgboost.so(+0x677df4) [0x14613f5d1df4]\n",
      "  [bt] (1) /userhome/cs2/cahu/anaconda3/envs/stat3612/lib/libxgboost.so(xgboost::tree::GPUHistMakerSpecialised<xgboost::detail::GradientPairInternal<double> >::Update(xgboost::HostDeviceVector<xgboost::detail::GradientPairInternal<float> >*, xgboost::DMatrix*, std::vector<xgboost::RegTree*, std::allocator<xgboost::RegTree*> > const&)+0x963) [0x14613f5f5343]\n",
      "  [bt] (2) /userhome/cs2/cahu/anaconda3/envs/stat3612/lib/libxgboost.so(xgboost::gbm::GBTree::BoostNewTrees(xgboost::HostDeviceVector<xgboost::detail::GradientPairInternal<float> >*, xgboost::DMatrix*, int, std::vector<std::unique_ptr<xgboost::RegTree, std::default_delete<xgboost::RegTree> >, std::allocator<std::unique_ptr<xgboost::RegTree, std::default_delete<xgboost::RegTree> > > >*)+0xa34) [0x14613f1fc904]\n",
      "  [bt] (3) /userhome/cs2/cahu/anaconda3/envs/stat3612/lib/libxgboost.so(xgboost::gbm::GBTree::DoBoost(xgboost::DMatrix*, xgboost::HostDeviceVector<xgboost::detail::GradientPairInternal<float> >*, xgboost::PredictionCacheEntry*)+0x358) [0x14613f1ffe98]\n",
      "  [bt] (4) /userhome/cs2/cahu/anaconda3/envs/stat3612/lib/libxgboost.so(+0x2c297a) [0x14613f21c97a]\n",
      "  [bt] (5) /userhome/cs2/cahu/anaconda3/envs/stat3612/lib/libxgboost.so(XGBoosterUpdateOneIter+0x7b) [0x14613f109edb]\n",
      "  [bt] (6) /userhome/cs2/cahu/anaconda3/envs/stat3612/lib/python3.7/lib-dynload/../../libffi.so.8(+0xa052) [0x14617bce3052]\n",
      "  [bt] (7) /userhome/cs2/cahu/anaconda3/envs/stat3612/lib/python3.7/lib-dynload/../../libffi.so.8(+0x88cd) [0x14617bce18cd]\n",
      "  [bt] (8) /userhome/cs2/cahu/anaconda3/envs/stat3612/lib/python3.7/lib-dynload/_ctypes.cpython-37m-x86_64-linux-gnu.so(_ctypes_callproc+0x2f7) [0x14617bcf9287]\n",
      "\n",
      "\n",
      "\n",
      "  warnings.warn(some_fits_failed_message, FitFailedWarning)\n",
      "/userhome/cs2/cahu/anaconda3/envs/stat3612/lib/python3.7/site-packages/sklearn/model_selection/_search.py:972: UserWarning: One or more of the test scores are non-finite: [0.91321053 0.91287708 0.90999294 0.9166521         nan 0.91397639\n",
      " 0.91753976 0.91676028 0.91518382 0.91363655 0.91104055 0.9105604\n",
      " 0.91472094 0.91454312 0.91331056 0.91445139 0.91538234 0.91338238\n",
      " 0.91224261 0.91238441 0.90815226 0.91269931 0.91177996 0.91162957\n",
      " 0.91228333 0.91462874 0.91163773 0.91191424 0.91172654 0.90954263\n",
      " 0.91514855 0.91447967 0.91346311 0.91550141 0.9160368  0.9135166\n",
      " 0.91093178 0.91203455 0.91153043 0.91399006 0.91471816 0.91363433\n",
      " 0.91371583 0.9132174  0.91417528 0.91002132 0.90991419 0.90525302\n",
      " 0.91217192 0.91237425 0.91011551 0.91170821 0.91139847 0.91006686\n",
      " 0.91311837 0.91037956 0.90816804 0.91531214 0.91367798 0.91274294\n",
      " 0.91621372 0.91506913 0.9127897  0.91175044 0.91262818 0.91175903\n",
      " 0.91230273        nan 0.91296535 0.91371937 0.91511111 0.91408153\n",
      " 0.91010102 0.90710329 0.90694259 0.90935408 0.90968738 0.90796875\n",
      " 0.91144737 0.90997592 0.91296939]\n",
      "  category=UserWarning,\n"
     ]
    },
    {
     "data": {
      "text/plain": [
       "GridSearchCV(cv=5,\n",
       "             estimator=XGBClassifier(base_score=None, booster=None,\n",
       "                                     colsample_bylevel=None,\n",
       "                                     colsample_bynode=None,\n",
       "                                     colsample_bytree=0.5,\n",
       "                                     enable_categorical=False,\n",
       "                                     eval_metric='auc', gamma=None, gpu_id=None,\n",
       "                                     importance_type=None,\n",
       "                                     interaction_constraints=None,\n",
       "                                     learning_rate=None, max_delta_step=None,\n",
       "                                     max_depth=None, min_child_weight=None,\n",
       "                                     missing=nan, monotone_...\n",
       "                                     num_parallel_tree=None, predictor=None,\n",
       "                                     random_state=None, reg_alpha=None,\n",
       "                                     reg_lambda=None, scale_pos_weight=None,\n",
       "                                     seed=3612, subsample=0.9,\n",
       "                                     tree_method='gpu_hist',\n",
       "                                     use_label_encoder=False,\n",
       "                                     validate_parameters=None, ...),\n",
       "             n_jobs=10,\n",
       "             param_grid={'alpha': [50], 'gamma': [0.2, 0.4, 0.6],\n",
       "                         'learning_rate': [0.2, 0.4, 0.6],\n",
       "                         'max_depth': [5, 6, 7],\n",
       "                         'scale_pos_weight': [9, 10, 11]},\n",
       "             scoring='f1_weighted')"
      ]
     },
     "execution_count": 103,
     "metadata": {},
     "output_type": "execute_result"
    }
   ],
   "source": [
    "from sklearn.model_selection import GridSearchCV\n",
    "import xgboost as xgb\n",
    "\n",
    "# Phase 1: only L2-regularization\n",
    "\n",
    "# Round 1 Cross Validation(CV)\n",
    "# param_grid = {\n",
    "#     \"max_depth\": [3,4,5],\n",
    "#     \"learning_rate\": [0.01, 0.05, 0.1],\n",
    "#     \"gamma\": [0.1,0.25,1],\n",
    "#     \"reg_lambda\": [0,10,50],\n",
    "#     \"scale_pos_weight\": [11,12,13,14]\n",
    "# }\n",
    "# Best params: {'gamma': 1, 'learning_rate': 0.1, 'max_depth': 4, 'reg_lambda': 50, 'scale_pos_weight': 11}\n",
    "\n",
    "# Round 2 CV\n",
    "# param_grid = {\n",
    "#     \"max_depth\": [4],\n",
    "#     \"learning_rate\": [0.1,0.2,0.5],\n",
    "#     \"gamma\": [1,2,10],\n",
    "#     \"reg_lambda\": [50,70,100],\n",
    "#     \"scale_pos_weight\": [8,9,10,11]\n",
    "# }\n",
    "# Best params: {'gamma': 1, 'learning_rate': 0.2, 'max_depth': 4, 'reg_lambda': 50, 'scale_pos_weight': 9}\n",
    "# score on kaggle: \n",
    "\n",
    "# Phase 2: l1-regularization\n",
    "\n",
    "# Round 1 CV\n",
    "# param_grid = {\n",
    "#     \"max_depth\": [3,4,5],\n",
    "#     \"learning_rate\": [0.1,0.2,1],\n",
    "#     \"gamma\": [0.1,0.2,1],\n",
    "#     \"alpha\": [50,70,100],\n",
    "#     \"scale_pos_weight\": [11,12,13]\n",
    "# }\n",
    "# Best params: {'alpha': 50, 'gamma': 0.2, 'learning_rate': 0.2, 'max_depth': 5, 'scale_pos_weight': 11}\n",
    "\n",
    "# Round 2 CV\n",
    "# param_grid = {\n",
    "#     \"max_depth\": [5,6,7],\n",
    "#     \"learning_rate\": [0.2,0.4,0.6],\n",
    "#     \"gamma\": [0.2,0.4,0.6],\n",
    "#     \"alpha\": [50],\n",
    "#     \"scale_pos_weight\": [9,10,11]\n",
    "# }\n",
    "# Best params: {'alpha': 50, 'gamma': 0.2, 'learning_rate': 0.2, 'max_depth': 7, 'scale_pos_weight': 9}\n",
    "\n",
    "# Round 3 CV\n",
    "param_grid = {\n",
    "    \"max_depth\": [7,8,9],\n",
    "    \"learning_rate\": [0.2,0.4,0.6],\n",
    "    \"gamma\": [0.2,0.4,0.6],\n",
    "    \"alpha\": [50],\n",
    "    \"scale_pos_weight\": [9,10,11]\n",
    "}\n",
    "\n",
    "\n",
    "\n",
    "# Phase 3: both L1 and L2 regularization\n",
    "\n",
    "# Round 1 CV\n",
    "# param_grid = {\n",
    "#     \"max_depth\": [3,4,5],\n",
    "#     \"learning_rate\": [0.1,0.2,0.5],\n",
    "#     \"gamma\": [0.2,0.5,1],\n",
    "#     \"lambda\": [20,50,70],\n",
    "#     \"alpha\": [20,50,70],\n",
    "#     \"scale_pos_weight\": [12,13,14]\n",
    "# }\n",
    "# Best params: {'alpha': 70, 'gamma': 0.5, 'lambda': 20, 'learning_rate': 0.2, 'max_depth': 4, 'scale_pos_weight': 12}\n",
    "\n",
    "# Round 2 CV\n",
    "# param_grid = {\n",
    "#     \"max_depth\": [4],\n",
    "#     \"learning_rate\": [0.2],\n",
    "#     \"gamma\": [0.5],\n",
    "#     \"lambda\": [0,10,20],\n",
    "#     \"alpha\": [70,100,200],\n",
    "#     \"scale_pos_weight\": [10,11,12]\n",
    "# }\n",
    "# Best params: {'alpha': 70, 'gamma': 0.5, 'lambda': 20, 'learning_rate': 0.2, 'max_depth': 4, 'scale_pos_weight': 12}\n",
    "\n",
    "opt_params = GridSearchCV(\n",
    "    estimator=xgb.XGBClassifier(objective=\"binary:logistic\", tree_method=\"gpu_hist\", eval_metric=\"auc\", use_label_encoder=False, seed=3612,subsample=0.9,colsample_bytree=0.5),\n",
    "    param_grid=param_grid,\n",
    "    scoring=\"f1_weighted\",\n",
    "    verbose=0,\n",
    "    n_jobs=10,\n",
    "    cv=5\n",
    ")\n",
    "opt_params.fit(X_train, y_train)"
   ]
  },
  {
   "cell_type": "code",
   "execution_count": 104,
   "metadata": {},
   "outputs": [
    {
     "name": "stdout",
     "output_type": "stream",
     "text": [
      "0.9175397583483514\n",
      "{'alpha': 50, 'gamma': 0.2, 'learning_rate': 0.2, 'max_depth': 7, 'scale_pos_weight': 9}\n"
     ]
    }
   ],
   "source": [
    "print(opt_params.best_score_)\n",
    "print(opt_params.best_params_)"
   ]
  },
  {
   "cell_type": "code",
   "execution_count": 93,
   "metadata": {},
   "outputs": [
    {
     "data": {
      "text/plain": [
       "XGBClassifier(base_score=0.5, booster='gbtree', colsample_bylevel=1,\n",
       "              colsample_bynode=1, colsample_bytree=1, enable_categorical=False,\n",
       "              eval_metric='auc', gamma=1, gpu_id=0, importance_type=None,\n",
       "              interaction_constraints='', learning_rate=0.2, max_delta_step=0,\n",
       "              max_depth=4, min_child_weight=1, missing=nan,\n",
       "              monotone_constraints='()', n_estimators=100, n_jobs=4,\n",
       "              num_parallel_tree=1, predictor='auto', random_state=3612,\n",
       "              reg_alpha=0, reg_lambda=50, scale_pos_weight=10, seed=3612,\n",
       "              subsample=1, tree_method='gpu_hist', use_label_encoder=False,\n",
       "              validate_parameters=1, ...)"
      ]
     },
     "execution_count": 93,
     "metadata": {},
     "output_type": "execute_result"
    }
   ],
   "source": [
    "# {'gamma': 1, 'learning_rate': 0.2, 'max_depth': 4, 'reg_lambda': 50, 'scale_pos_weight': 1}\n",
    "\n",
    "clf = xgb.XGBClassifier(objective=\"binary:logistic\",\n",
    "                        tree_method=\"gpu_hist\", \n",
    "                        eval_metric=\"auc\", \n",
    "                        use_label_encoder=False, \n",
    "                        gamma=1, \n",
    "                        learning_rate=0.2, \n",
    "                        max_depth=4,\n",
    "                        reg_lambda=50,\n",
    "                        scale_pos_weight=10, \n",
    "                        seed=3612)\n",
    "clf.fit(X_train, y_train, verbose=0, eval_set=[(X_valid, y_valid)])"
   ]
  },
  {
   "cell_type": "code",
   "execution_count": 94,
   "metadata": {},
   "outputs": [
    {
     "name": "stdout",
     "output_type": "stream",
     "text": [
      "              precision    recall  f1-score   support\n",
      "\n",
      "           0       0.93      0.97      0.95      2149\n",
      "           1       0.64      0.40      0.49       245\n",
      "\n",
      "    accuracy                           0.92      2394\n",
      "   macro avg       0.79      0.69      0.72      2394\n",
      "weighted avg       0.90      0.92      0.91      2394\n",
      "\n"
     ]
    },
    {
     "name": "stderr",
     "output_type": "stream",
     "text": [
      "/userhome/cs2/cahu/anaconda3/envs/stat3612/lib/python3.7/site-packages/sklearn/utils/deprecation.py:87: FutureWarning: Function plot_confusion_matrix is deprecated; Function `plot_confusion_matrix` is deprecated in 1.0 and will be removed in 1.2. Use one of the class methods: ConfusionMatrixDisplay.from_predictions or ConfusionMatrixDisplay.from_estimator.\n",
      "  warnings.warn(msg, category=FutureWarning)\n"
     ]
    },
    {
     "data": {
      "text/plain": [
       "<sklearn.metrics._plot.confusion_matrix.ConfusionMatrixDisplay at 0x14650a583950>"
      ]
     },
     "execution_count": 94,
     "metadata": {},
     "output_type": "execute_result"
    },
    {
     "data": {
      "image/png": "[encoded data removed]",
      "text/plain": [
       "<Figure size 640x480 with 2 Axes>"
      ]
     },
     "metadata": {},
     "output_type": "display_data"
    }
   ],
   "source": [
    "from sklearn.metrics import classification_report, plot_confusion_matrix\n",
    "\n",
    "y_pred = clf.predict(X_valid)\n",
    "print(classification_report(y_pred, y_valid))\n",
    "plot_confusion_matrix(clf, X_valid, y_valid)"
   ]
  },
  {
   "cell_type": "markdown",
   "metadata": {},
   "source": [
    "# Final model"
   ]
  },
  {
   "cell_type": "code",
   "execution_count": 38,
   "metadata": {},
   "outputs": [],
   "source": [
    "y_train = pd.read_csv(\"./Datasets/Y_train.csv\", index_col=[0], header=[0])\n",
    "y_valid = pd.read_csv(\"./Datasets/Y_valid.csv\", index_col=[0], header=[0])"
   ]
  },
  {
   "cell_type": "code",
   "execution_count": 39,
   "metadata": {},
   "outputs": [],
   "source": [
    "X_final = pd.concat([X_train, X_valid])\n",
    "y_final = pd.concat([y_train, y_valid])"
   ]
  },
  {
   "cell_type": "code",
   "execution_count": 95,
   "metadata": {},
   "outputs": [
    {
     "data": {
      "text/plain": [
       "XGBClassifier(base_score=0.5, booster='gbtree', colsample_bylevel=1,\n",
       "              colsample_bynode=1, colsample_bytree=1, enable_categorical=False,\n",
       "              eval_metric='auc', gamma=1, gpu_id=0, importance_type=None,\n",
       "              interaction_constraints='', learning_rate=0.2, max_delta_step=0,\n",
       "              max_depth=4, min_child_weight=1, missing=nan,\n",
       "              monotone_constraints='()', n_estimators=100, n_jobs=4,\n",
       "              num_parallel_tree=1, predictor='auto', random_state=3612,\n",
       "              reg_alpha=0, reg_lambda=50, scale_pos_weight=10, seed=3612,\n",
       "              subsample=1, tree_method='gpu_hist', use_label_encoder=False,\n",
       "              validate_parameters=1, ...)"
      ]
     },
     "execution_count": 95,
     "metadata": {},
     "output_type": "execute_result"
    }
   ],
   "source": [
    "clf_final = xgb.XGBClassifier(objective=\"binary:logistic\",\n",
    "                        tree_method=\"gpu_hist\", \n",
    "                        eval_metric=\"auc\", \n",
    "                        use_label_encoder=False, \n",
    "                        gamma=1, \n",
    "                        learning_rate=0.2, \n",
    "                        max_depth=4,\n",
    "                        reg_lambda=50,\n",
    "                        scale_pos_weight=10, \n",
    "                        seed=3612)\n",
    "clf_final.fit(X_final, y_final, verbose=True)"
   ]
  },
  {
   "cell_type": "code",
   "execution_count": 98,
   "metadata": {},
   "outputs": [],
   "source": [
    "y_prob = clf_final.predict_proba(X_test)\n",
    "y_prob_pred = list()\n",
    "\n",
    "for prob in y_prob:\n",
    "    y_prob_pred.append(prob[1])\n",
    "\n",
    "y_out = pd.DataFrame(data=X_test.index,columns=[\"Id\"])\n",
    "y_out[\"Predicted\"]=y_prob_pred\n",
    "y_out.head()"
   ]
  },
  {
   "cell_type": "code",
   "execution_count": 100,
   "metadata": {},
   "outputs": [],
   "source": [
    "y_out.to_csv(\"Y_test.csv\", index=False)"
   ]
  },
  {
   "cell_type": "code",
   "execution_count": null,
   "metadata": {},
   "outputs": [],
   "source": []
  }
 ],
 "metadata": {
  "kernelspec": {
   "display_name": "stat3612",
   "language": "python",
   "name": "stat3612"
  },
  "language_info": {
   "codemirror_mode": {
    "name": "ipython",
    "version": 3
   },
   "file_extension": ".py",
   "mimetype": "text/x-python",
   "name": "python",
   "nbconvert_exporter": "python",
   "pygments_lexer": "ipython3",
   "version": "3.7.15"
  },
  "vscode": {
   "interpreter": {
    "hash": "c3fd8f61f8f54ff0cae9a83bb813d9d5683b3c3fa7f3560094c24f7445c0d4f4"
   }
  }
 },
 "nbformat": 4,
 "nbformat_minor": 4
}
