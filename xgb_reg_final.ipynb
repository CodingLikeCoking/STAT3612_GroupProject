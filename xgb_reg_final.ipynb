{
 "cells": [
  {
   "cell_type": "code",
   "execution_count": 1,
   "metadata": {},
   "outputs": [],
   "source": [
    "import pandas as pd\n",
    "import numpy as np\n",
    "import xgboost as xgb\n",
    "from sklearn.metrics import mean_squared_error"
   ]
  },
  {
   "cell_type": "code",
   "execution_count": 2,
   "metadata": {},
   "outputs": [],
   "source": [
    "X_train = pd.read_csv(\"./Datasets/X_train.csv\", index_col=[0], header=[0, 1, 2])\n",
    "y_train = pd.read_csv(\"./Datasets/Y_train_LOS.csv\", index_col=[0], header=[0])\n",
    "X_valid = pd.read_csv(\"./Datasets/X_valid.csv\", index_col=[0], header=[0, 1, 2])\n",
    "y_valid = pd.read_csv(\"./Datasets/Y_valid_LOS.csv\", index_col=[0], header=[0])\n",
    "X_test = pd.read_csv(\"./Datasets/X_test.csv\", index_col=[0], header=[0, 1, 2])"
   ]
  },
  {
   "cell_type": "code",
   "execution_count": 3,
   "metadata": {},
   "outputs": [],
   "source": [
    "X_final = pd.concat([X_train, X_valid])\n",
    "y_final = pd.concat([y_train, y_valid])"
   ]
  },
  {
   "cell_type": "code",
   "execution_count": 5,
   "metadata": {},
   "outputs": [
    {
     "data": {
      "text/plain": [
       "XGBRegressor(base_score=0.5, booster='gbtree', colsample_bylevel=1,\n",
       "             colsample_bynode=1, colsample_bytree=1, enable_categorical=False,\n",
       "             eval_metric='rmse', gamma=0.5, gpu_id=0, importance_type=None,\n",
       "             interaction_constraints='', learning_rate=0.1, max_delta_step=0,\n",
       "             max_depth=4, min_child_weight=1, missing=nan,\n",
       "             monotone_constraints='()', n_estimators=100, n_jobs=4,\n",
       "             num_parallel_tree=1, predictor='auto', random_state=42,\n",
       "             reg_alpha=0, reg_lambda=20, scale_pos_weight=1, seed=42,\n",
       "             subsample=1, tree_method='gpu_hist', use_label_encoder=False,\n",
       "             validate_parameters=1, ...)"
      ]
     },
     "execution_count": 5,
     "metadata": {},
     "output_type": "execute_result"
    }
   ],
   "source": [
    "clf = xgb.XGBRegressor(objective=\"reg:squarederror\",\n",
    "                        tree_method=\"gpu_hist\", \n",
    "                        eval_metric=\"rmse\", \n",
    "                        use_label_encoder=False, \n",
    "                        gamma=0.5, \n",
    "                        learning_rate=0.1, \n",
    "                        max_depth=4, \n",
    "                        reg_lambda=20, \n",
    "                        seed=42)\n",
    "\n",
    "clf.fit(X_final, y_final)"
   ]
  },
  {
   "cell_type": "code",
   "execution_count": 7,
   "metadata": {},
   "outputs": [
    {
     "data": {
      "text/html": [
       "<div>\n",
       "<style scoped>\n",
       "    .dataframe tbody tr th:only-of-type {\n",
       "        vertical-align: middle;\n",
       "    }\n",
       "\n",
       "    .dataframe tbody tr th {\n",
       "        vertical-align: top;\n",
       "    }\n",
       "\n",
       "    .dataframe thead th {\n",
       "        text-align: right;\n",
       "    }\n",
       "</style>\n",
       "<table border=\"1\" class=\"dataframe\">\n",
       "  <thead>\n",
       "    <tr style=\"text-align: right;\">\n",
       "      <th></th>\n",
       "      <th>Id</th>\n",
       "      <th>Predicted</th>\n",
       "    </tr>\n",
       "  </thead>\n",
       "  <tbody>\n",
       "    <tr>\n",
       "      <th>0</th>\n",
       "      <td>32_175413_295037</td>\n",
       "      <td>3.524312</td>\n",
       "    </tr>\n",
       "    <tr>\n",
       "      <th>1</th>\n",
       "      <td>33_176176_296681</td>\n",
       "      <td>2.779721</td>\n",
       "    </tr>\n",
       "    <tr>\n",
       "      <th>2</th>\n",
       "      <td>42_119203_210828</td>\n",
       "      <td>2.740224</td>\n",
       "    </tr>\n",
       "    <tr>\n",
       "      <th>3</th>\n",
       "      <td>44_181750_291554</td>\n",
       "      <td>2.399986</td>\n",
       "    </tr>\n",
       "    <tr>\n",
       "      <th>4</th>\n",
       "      <td>61_176332_252348</td>\n",
       "      <td>2.329115</td>\n",
       "    </tr>\n",
       "  </tbody>\n",
       "</table>\n",
       "</div>"
      ],
      "text/plain": [
       "                 Id  Predicted\n",
       "0  32_175413_295037   3.524312\n",
       "1  33_176176_296681   2.779721\n",
       "2  42_119203_210828   2.740224\n",
       "3  44_181750_291554   2.399986\n",
       "4  61_176332_252348   2.329115"
      ]
     },
     "execution_count": 7,
     "metadata": {},
     "output_type": "execute_result"
    }
   ],
   "source": [
    "y_pred = clf.predict(X_test)\n",
    "y_pred\n",
    "\n",
    "y_out = pd.DataFrame(data=X_test.index,columns=[\"Id\"])\n",
    "y_out[\"Predicted\"]=y_pred\n",
    "y_out.head()"
   ]
  },
  {
   "cell_type": "code",
   "execution_count": 8,
   "metadata": {},
   "outputs": [],
   "source": [
    "y_out.to_csv(\"xgb_reg.csv\", index=False)"
   ]
  },
  {
   "cell_type": "code",
   "execution_count": null,
   "metadata": {},
   "outputs": [],
   "source": []
  }
 ],
 "metadata": {
  "kernelspec": {
   "display_name": "stat3612",
   "language": "python",
   "name": "stat3612"
  },
  "language_info": {
   "codemirror_mode": {
    "name": "ipython",
    "version": 3
   },
   "file_extension": ".py",
   "mimetype": "text/x-python",
   "name": "python",
   "nbconvert_exporter": "python",
   "pygments_lexer": "ipython3",
   "version": "3.7.15"
  }
 },
 "nbformat": 4,
 "nbformat_minor": 4
}
