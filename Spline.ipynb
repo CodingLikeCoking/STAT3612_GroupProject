{
 "cells": [
  {
   "cell_type": "code",
   "execution_count": 1,
   "metadata": {},
   "outputs": [],
   "source": [
    "# preprocess.py\n",
    "import pandas as pd\n",
    "import numpy as np\n",
    "\n",
    "def extract_X(csv_file):\n",
    "    X_df = pd.read_csv(csv_file, index_col=[0], header=[0, 1, 2])\n",
    "    X_arr = np.array(X_df)\n",
    "    X_shape = X_arr.shape\n",
    "    X_arr = np.reshape(X_arr, (X_shape[0], -1, 3, 24))\n",
    "    X_arr = X_arr[:, :, 1, :]\n",
    "    return X_arr\n",
    "\n",
    "def extract_X_clean(csv_file):\n",
    "    X_df = pd.read_csv(csv_file, index_col=[0], header=[0, 1, 2])\n",
    "    X_arr = np.array(X_df)\n",
    "    X_shape = X_arr.shape\n",
    "    X_arr = np.reshape(X_arr, (X_shape[0], -1, 3, 24))\n",
    "    def check_mask(sample):\n",
    "        mask = sample[:, 0, :] # (104, 24)\n",
    "        mask = np.sum(mask, axis=-1) # (104)\n",
    "        mask = np.array(list(map(lambda item: max(0, 1-item), mask)))\n",
    "        all_fake = np.average(mask, axis=-1)\n",
    "        return all_fake < 0.7\n",
    "    X_arr = np.array(list(filter(check_mask, X_arr)))\n",
    "    X_arr = X_arr[:, :, 1, :]\n",
    "    return X_arr\n",
    "\n",
    "def extract_y(csv_file):\n",
    "    y_df = pd.read_csv(csv_file, index_col=[0], header=[0])\n",
    "    y_arr = np.array(y_df)[:, 0]\n",
    "    return y_arr\n",
    "\n",
    "def time_reduction(X_arr, factor):\n",
    "    n, a, t = X_arr.shape\n",
    "    reduced_arr = np.reshape(X_arr, (n, a, -1, factor))\n",
    "    reduced_arr = np.average(reduced_arr, axis = -1)\n",
    "    return reduced_arr\n",
    "\n",
    "def attribute_reduction(X_arr, n_components):\n",
    "    from sklearn.decomposition import PCA\n",
    "    n, a, t = X_arr.shape\n",
    "    processed_arr = np.transpose(X_arr, (0, 2, 1))\n",
    "    processed_arr = np.reshape(processed_arr, (-1, a))\n",
    "    pca = PCA(n_components = n_components)\n",
    "    new_arr = pca.fit_transform(processed_arr)\n",
    "    new_arr = np.reshape(new_arr, (n, t, n_components))\n",
    "    new_arr = np.transpose(new_arr, (0, 2, 1))\n",
    "    new_arr = np.reshape(new_arr, (n, n_components, t))\n",
    "    exp_var_ratio = sum(pca.explained_variance_ratio_)\n",
    "    return new_arr, exp_var_ratio\n"
   ]
  },
  {
   "cell_type": "code",
   "execution_count": null,
   "metadata": {},
   "outputs": [],
   "source": []
  },
  {
   "cell_type": "code",
   "execution_count": 2,
   "metadata": {},
   "outputs": [
    {
     "data": {
      "text/plain": [
       "((16760, 104, 24), (2394, 104, 24))"
      ]
     },
     "execution_count": 2,
     "metadata": {},
     "output_type": "execute_result"
    }
   ],
   "source": [
    "X_train = extract_X(\"X_train.csv\")\n",
    "X_valid = extract_X(\"X_valid.csv\")\n",
    "X_train.shape, X_valid.shape"
   ]
  },
  {
   "cell_type": "code",
   "execution_count": 3,
   "metadata": {},
   "outputs": [
    {
     "data": {
      "text/plain": [
       "((16270, 104, 24), (2322, 104, 24))"
      ]
     },
     "execution_count": 3,
     "metadata": {},
     "output_type": "execute_result"
    }
   ],
   "source": [
    "X_train_clean = extract_X_clean(\"X_train.csv\")\n",
    "X_valid_clean = extract_X_clean(\"X_valid.csv\")\n",
    "X_train_clean.shape, X_valid_clean.shape"
   ]
  },
  {
   "cell_type": "code",
   "execution_count": 4,
   "metadata": {},
   "outputs": [
    {
     "data": {
      "text/plain": [
       "((16760,), (2394,))"
      ]
     },
     "execution_count": 4,
     "metadata": {},
     "output_type": "execute_result"
    }
   ],
   "source": [
    "Y_train = extract_y(\"Y_train.csv\")\n",
    "Y_valid = extract_y(\"Y_valid.csv\")\n",
    "Y_train.shape, Y_valid.shape"
   ]
  },
  {
   "cell_type": "code",
   "execution_count": null,
   "metadata": {},
   "outputs": [],
   "source": []
  },
  {
   "cell_type": "code",
   "execution_count": 41,
   "metadata": {},
   "outputs": [
    {
     "data": {
      "text/plain": [
       "((16760, 50, 24), 0.932844191622672)"
      ]
     },
     "execution_count": 41,
     "metadata": {},
     "output_type": "execute_result"
    }
   ],
   "source": [
    "X_train_attred, explained_var = attribute_reduction(X_train, n_components=50)\n",
    "X_train_attred.shape, explained_var"
   ]
  },
  {
   "cell_type": "code",
   "execution_count": 47,
   "metadata": {},
   "outputs": [
    {
     "data": {
      "text/plain": [
       "(16760, 1200)"
      ]
     },
     "execution_count": 47,
     "metadata": {},
     "output_type": "execute_result"
    }
   ],
   "source": [
    "X_train_attred_2d = X_train_attred.reshape((16760,-1))\n",
    "X_train_attred_2d.shape"
   ]
  },
  {
   "cell_type": "code",
   "execution_count": null,
   "metadata": {},
   "outputs": [],
   "source": []
  },
  {
   "cell_type": "code",
   "execution_count": 48,
   "metadata": {},
   "outputs": [
    {
     "data": {
      "text/plain": [
       "(16760, 104, 1)"
      ]
     },
     "execution_count": 48,
     "metadata": {},
     "output_type": "execute_result"
    }
   ],
   "source": [
    "X_train_timered = time_reduction(X_train, factor=24)\n",
    "X_train_timered.shape"
   ]
  },
  {
   "cell_type": "code",
   "execution_count": 49,
   "metadata": {},
   "outputs": [
    {
     "data": {
      "text/plain": [
       "(16760, 104)"
      ]
     },
     "execution_count": 49,
     "metadata": {},
     "output_type": "execute_result"
    }
   ],
   "source": [
    "X_train_timered_2d = X_train_timered.reshape((16760,-1))\n",
    "X_train_timered_2d.shape"
   ]
  },
  {
   "cell_type": "code",
   "execution_count": null,
   "metadata": {},
   "outputs": [],
   "source": []
  },
  {
   "cell_type": "code",
   "execution_count": 43,
   "metadata": {},
   "outputs": [
    {
     "data": {
      "text/plain": [
       "(16760, 50, 1)"
      ]
     },
     "execution_count": 43,
     "metadata": {},
     "output_type": "execute_result"
    }
   ],
   "source": [
    "X_train_attred_timered = time_reduction(X_train_attred, factor=24)\n",
    "X_train_attred_timered.shape"
   ]
  },
  {
   "cell_type": "code",
   "execution_count": 45,
   "metadata": {},
   "outputs": [
    {
     "data": {
      "text/plain": [
       "(16760, 50)"
      ]
     },
     "execution_count": 45,
     "metadata": {},
     "output_type": "execute_result"
    }
   ],
   "source": [
    "X_train_attred_timered_2d = X_train_attred_timered.reshape((16760,-1))\n",
    "X_train_attred_timered_2d.shape"
   ]
  },
  {
   "cell_type": "code",
   "execution_count": null,
   "metadata": {},
   "outputs": [],
   "source": []
  },
  {
   "cell_type": "code",
   "execution_count": 51,
   "metadata": {},
   "outputs": [
    {
     "data": {
      "text/plain": [
       "((16760, 50, 1), 0.9353544209126656)"
      ]
     },
     "execution_count": 51,
     "metadata": {},
     "output_type": "execute_result"
    }
   ],
   "source": [
    "X_train_timered_attred, explained_var = attribute_reduction(X_train_timered, n_components=50)\n",
    "X_train_timered_attred.shape, explained_var"
   ]
  },
  {
   "cell_type": "code",
   "execution_count": 52,
   "metadata": {},
   "outputs": [
    {
     "data": {
      "text/plain": [
       "(16760, 50)"
      ]
     },
     "execution_count": 52,
     "metadata": {},
     "output_type": "execute_result"
    }
   ],
   "source": [
    "X_train_timered_attred_2d = X_train_timered_attred.reshape((16760,-1))\n",
    "X_train_timered_attred_2d.shape"
   ]
  },
  {
   "cell_type": "code",
   "execution_count": null,
   "metadata": {},
   "outputs": [],
   "source": []
  },
  {
   "cell_type": "code",
   "execution_count": 53,
   "metadata": {},
   "outputs": [
    {
     "data": {
      "text/plain": [
       "array([[-3.7167648 ,  1.51434426, -1.27844754, ...,  0.16391728,\n",
       "         0.02418093,  0.16704015],\n",
       "       [-5.06459685,  4.09033165,  1.21490575, ..., -0.13790436,\n",
       "         0.39084452,  0.15356615],\n",
       "       [ 3.81611134,  1.43622642, -0.21673833, ..., -0.11156567,\n",
       "        -0.65812409,  0.2171959 ],\n",
       "       ...,\n",
       "       [ 0.1995888 , -1.69666611,  0.52136827, ..., -0.76009977,\n",
       "        -0.05997844,  0.07980293],\n",
       "       [ 0.87826728, -1.16592274, -0.63602197, ..., -0.06330783,\n",
       "        -0.40680029,  0.19852433],\n",
       "       [ 1.1008677 , -2.45473191,  2.89602819, ...,  0.47785689,\n",
       "        -0.3898703 , -0.19430892]])"
      ]
     },
     "execution_count": 53,
     "metadata": {},
     "output_type": "execute_result"
    }
   ],
   "source": [
    "X_train_timered_attred_2d #(16760, 50)"
   ]
  },
  {
   "cell_type": "code",
   "execution_count": 54,
   "metadata": {},
   "outputs": [
    {
     "data": {
      "text/plain": [
       "array([[-3.34700763,  2.3045836 , -1.45101966, ...,  0.2811827 ,\n",
       "        -0.19297459, -0.27443401],\n",
       "       [-4.12580999,  4.57656669,  1.37092252, ...,  0.8868439 ,\n",
       "        -0.42285247,  0.07366775],\n",
       "       [ 4.13594537,  0.89170379,  0.01958342, ..., -0.61409808,\n",
       "         0.07490726,  0.62663711],\n",
       "       ...,\n",
       "       [-0.14912002, -1.77340975,  0.7146281 , ...,  0.03880143,\n",
       "         0.11131045, -0.36076324],\n",
       "       [ 1.31102798, -0.80681703, -1.75649397, ..., -0.05046646,\n",
       "         0.16655009, -0.5446653 ],\n",
       "       [ 0.67164911, -2.98895675,  2.41128945, ...,  0.35644128,\n",
       "        -0.56316309, -0.33986278]])"
      ]
     },
     "execution_count": 54,
     "metadata": {},
     "output_type": "execute_result"
    }
   ],
   "source": [
    "X_train_attred_timered_2d #(16760, 50)"
   ]
  },
  {
   "cell_type": "code",
   "execution_count": 55,
   "metadata": {},
   "outputs": [
    {
     "data": {
      "text/plain": [
       "array([[-4.098482  , -4.98655838, -4.52018059, ...,  0.2731897 ,\n",
       "        -0.11043026, -0.48275764],\n",
       "       [-5.04038331, -4.38769645, -4.17356526, ...,  0.13391565,\n",
       "         0.14907133,  0.1565493 ],\n",
       "       [ 5.33360001,  5.84861166,  5.49821287, ...,  0.65132909,\n",
       "         0.67960077,  0.66847897],\n",
       "       ...,\n",
       "       [-0.56383084, -0.62747357, -0.72725797, ..., -0.58780428,\n",
       "        -0.31260371, -0.29285985],\n",
       "       [ 1.23891794,  1.14432611,  0.7492249 , ..., -0.84072832,\n",
       "        -0.85482644, -0.87691826],\n",
       "       [ 0.50652772,  0.42775387,  0.61347979, ...,  0.28939582,\n",
       "         0.27502291,  0.28345536]])"
      ]
     },
     "execution_count": 55,
     "metadata": {},
     "output_type": "execute_result"
    }
   ],
   "source": [
    "X_train_attred_2d #(16760, 1200)"
   ]
  },
  {
   "cell_type": "code",
   "execution_count": 56,
   "metadata": {},
   "outputs": [
    {
     "data": {
      "text/plain": [
       "array([[-0.25445971, -1.9798553 ,  0.        , ...,  1.0260044 ,\n",
       "         0.82364104,  0.16006746],\n",
       "       [-0.25659861, -0.25180589,  0.        , ...,  0.        ,\n",
       "        -0.18158883,  0.        ],\n",
       "       [-0.26943203,  0.        ,  0.        , ...,  0.        ,\n",
       "        -0.20568015,  0.        ],\n",
       "       ...,\n",
       "       [-0.26087642,  1.04423117,  0.        , ..., -0.4429212 ,\n",
       "        -0.7465692 ,  0.        ],\n",
       "       [ 0.        ,  0.        ,  0.        , ...,  0.78140173,\n",
       "        -0.58570134, -0.30376832],\n",
       "       [-0.2437652 ,  0.        ,  0.        , ..., -0.60815335,\n",
       "        -0.44911908,  0.        ]])"
      ]
     },
     "execution_count": 56,
     "metadata": {},
     "output_type": "execute_result"
    }
   ],
   "source": [
    "X_train_timered_2d #(16760, 104)"
   ]
  },
  {
   "cell_type": "code",
   "execution_count": null,
   "metadata": {},
   "outputs": [],
   "source": []
  },
  {
   "cell_type": "code",
   "execution_count": 9,
   "metadata": {},
   "outputs": [
    {
     "name": "stdout",
     "output_type": "stream",
     "text": [
      "Collecting git+https://github.com/scikit-learn-contrib/py-earth@v0.2dev\n",
      "  Cloning https://github.com/scikit-learn-contrib/py-earth (to revision v0.2dev) to /tmp/.jk101/pip-req-build-2urxgavz\n",
      "Requirement already satisfied: scipy>=0.16 in /userhome/cs2/jk101/anaconda3/lib/python3.8/site-packages (from sklearn-contrib-py-earth==0.1.0+16.g400f84d) (1.5.2)\n",
      "Requirement already satisfied: scikit-learn>=0.16 in /userhome/cs2/jk101/anaconda3/lib/python3.8/site-packages (from sklearn-contrib-py-earth==0.1.0+16.g400f84d) (0.23.2)\n",
      "Requirement already satisfied: six in /userhome/cs2/jk101/anaconda3/lib/python3.8/site-packages (from sklearn-contrib-py-earth==0.1.0+16.g400f84d) (1.15.0)\n",
      "Requirement already satisfied: numpy>=1.14.5 in /userhome/cs2/jk101/anaconda3/lib/python3.8/site-packages (from scipy>=0.16->sklearn-contrib-py-earth==0.1.0+16.g400f84d) (1.19.2)\n",
      "Requirement already satisfied: threadpoolctl>=2.0.0 in /userhome/cs2/jk101/anaconda3/lib/python3.8/site-packages (from scikit-learn>=0.16->sklearn-contrib-py-earth==0.1.0+16.g400f84d) (2.1.0)\n",
      "Requirement already satisfied: joblib>=0.11 in /userhome/cs2/jk101/anaconda3/lib/python3.8/site-packages (from scikit-learn>=0.16->sklearn-contrib-py-earth==0.1.0+16.g400f84d) (0.17.0)\n",
      "Building wheels for collected packages: sklearn-contrib-py-earth\n",
      "  Building wheel for sklearn-contrib-py-earth (setup.py) ... \u001b[?25ldone\n",
      "\u001b[?25h  Created wheel for sklearn-contrib-py-earth: filename=sklearn_contrib_py_earth-0.1.0+16.g400f84d-cp38-cp38-linux_x86_64.whl size=4495091 sha256=bd20d37eb30393dc50f1bfa52f47bd28baa2cf2c2277bda3a392524d8febc4eb\n",
      "  Stored in directory: /tmp/.jk101/pip-ephem-wheel-cache-6tbf9lkv/wheels/8a/33/e4/b577aeaf3435222ffd76339bd728390afc103237af5cc8064e\n",
      "Successfully built sklearn-contrib-py-earth\n",
      "Installing collected packages: sklearn-contrib-py-earth\n",
      "Successfully installed sklearn-contrib-py-earth-0.1.0+16.g400f84d\n"
     ]
    }
   ],
   "source": [
    "!pip install git+https://github.com/scikit-learn-contrib/py-earth@v0.2dev\n",
    "from pyearth import Earth"
   ]
  },
  {
   "cell_type": "code",
   "execution_count": 57,
   "metadata": {},
   "outputs": [
    {
     "data": {
      "text/plain": [
       "Earth()"
      ]
     },
     "execution_count": 57,
     "metadata": {},
     "output_type": "execute_result"
    }
   ],
   "source": [
    "model_1 = Earth()\n",
    "model_1.fit(X_train_attred_timered_2d, Y_train)\n",
    "\n",
    "model_2 = Earth()\n",
    "model_2.fit(X_train_timered_attred_2d, Y_train)"
   ]
  },
  {
   "cell_type": "code",
   "execution_count": 79,
   "metadata": {},
   "outputs": [
    {
     "name": "stdout",
     "output_type": "stream",
     "text": [
      "Earth Model\n",
      "-----------------------------------------\n",
      "Basis Function      Pruned  Coefficient  \n",
      "-----------------------------------------\n",
      "(Intercept)         No      3.82601      \n",
      "h(x25-0.0937084)    No      -0.250341    \n",
      "h(0.0937084-x25)    No      0.25963      \n",
      "h(x17-0.110517)     Yes     None         \n",
      "h(0.110517-x17)     No      2.03311      \n",
      "h(x38-0.0541234)    No      0.349453     \n",
      "h(0.0541234-x38)    No      0.307441     \n",
      "h(x13+2.59091)      No      0.108762     \n",
      "h(-2.59091-x13)     Yes     None         \n",
      "h(x15-1.34439)      No      -0.225901    \n",
      "h(1.34439-x15)      No      -0.263648    \n",
      "h(x26+0.0864369)    No      -0.204302    \n",
      "h(-0.0864369-x26)   No      0.223622     \n",
      "h(x41+0.247598)     No      0.322729     \n",
      "h(-0.247598-x41)    Yes     None         \n",
      "h(x8-0.181088)      No      -0.0855003   \n",
      "h(0.181088-x8)      No      0.157341     \n",
      "h(x46+0.00227089)   No      -0.193472    \n",
      "h(-0.00227089-x46)  No      0.429014     \n",
      "h(x24+1.95214)      No      -0.170665    \n",
      "h(-1.95214-x24)     No      -1.44226     \n",
      "h(x9+0.0847018)     No      0.224691     \n",
      "h(-0.0847018-x9)    Yes     None         \n",
      "x27                 No      0.171677     \n",
      "h(x0-0.268834)      No      -0.063054    \n",
      "h(0.268834-x0)      No      0.0805165    \n",
      "h(x23+0.928018)     No      -0.24428     \n",
      "h(-0.928018-x23)    Yes     None         \n",
      "h(x1-2.54214)       No      -0.12539     \n",
      "h(2.54214-x1)       No      -0.0845629   \n",
      "h(x39-0.18798)      No      0.357273     \n",
      "h(0.18798-x39)      Yes     None         \n",
      "h(x12+1.98005)      No      -0.100105    \n",
      "h(-1.98005-x12)     Yes     None         \n",
      "h(x5+0.0552585)     No      0.147342     \n",
      "h(-0.0552585-x5)    Yes     None         \n",
      "h(x7-2.80606)       No      -0.921441    \n",
      "h(2.80606-x7)       No      -0.0513579   \n",
      "h(x16-1.0861)       No      -0.540404    \n",
      "h(1.0861-x16)       No      -0.11302     \n",
      "h(x45+0.155906)     No      0.27384      \n",
      "h(-0.155906-x45)    No      0.292938     \n",
      "x42                 No      -0.162473    \n",
      "h(x19+0.120479)     No      0.111474     \n",
      "h(-0.120479-x19)    Yes     None         \n",
      "-----------------------------------------\n",
      "MSE: 3.4398, GCV: 3.4764, RSQ: 0.1188, GRSQ: 0.1096\n"
     ]
    }
   ],
   "source": [
    "print(model_1.summary())"
   ]
  },
  {
   "cell_type": "code",
   "execution_count": 80,
   "metadata": {},
   "outputs": [
    {
     "name": "stdout",
     "output_type": "stream",
     "text": [
      "Earth Model\n",
      "----------------------------------------\n",
      "Basis Function     Pruned  Coefficient  \n",
      "----------------------------------------\n",
      "(Intercept)        No      6.63729      \n",
      "h(x21-0.118297)    No      -0.306748    \n",
      "h(0.118297-x21)    No      0.60596      \n",
      "h(x18+0.645615)    No      0.3632       \n",
      "h(-0.645615-x18)   Yes     None         \n",
      "h(x0+8.04866)      No      -0.105312    \n",
      "h(-8.04866-x0)     Yes     None         \n",
      "h(x48+0.0346998)   No      1.28119      \n",
      "h(-0.0346998-x48)  Yes     None         \n",
      "h(x46+0.0484209)   Yes     None         \n",
      "h(-0.0484209-x46)  No      1.35357      \n",
      "h(x12-2.10592)     Yes     None         \n",
      "h(2.10592-x12)     No      -0.194487    \n",
      "h(x5+1.27713)      No      0.118603     \n",
      "h(-1.27713-x5)     Yes     None         \n",
      "h(x7-3.85833)      No      -0.883161    \n",
      "h(3.85833-x7)      No      -0.13502     \n",
      "h(x1-2.23553)      Yes     None         \n",
      "h(2.23553-x1)      No      -0.0825737   \n",
      "h(x46-0.411713)    Yes     None         \n",
      "h(0.411713-x46)    No      -1.19616     \n",
      "h(x36-2.23737)     No      -0.436607    \n",
      "h(2.23737-x36)     No      -0.256516    \n",
      "h(x38+0.0585647)   No      0.18684      \n",
      "h(-0.0585647-x38)  No      0.33495      \n",
      "h(x40+0.350115)    No      0.133337     \n",
      "h(-0.350115-x40)   No      -0.274225    \n",
      "h(x24-1.54852)     Yes     None         \n",
      "h(1.54852-x24)     No      -0.162565    \n",
      "h(x47+0.250054)    No      -0.194478    \n",
      "h(-0.250054-x47)   No      -0.274725    \n",
      "h(x27-0.562572)    No      -0.282109    \n",
      "h(0.562572-x27)    No      -0.201122    \n",
      "h(x23+0.234791)    No      0.198339     \n",
      "h(-0.234791-x23)   Yes     None         \n",
      "h(x20-1.7145)      Yes     None         \n",
      "h(1.7145-x20)      No      -0.0725758   \n",
      "x6                 No      -0.0864331   \n",
      "h(x17-1.3328)      Yes     None         \n",
      "h(1.3328-x17)      No      -0.13642     \n",
      "h(x4+0.0139036)    Yes     None         \n",
      "h(-0.0139036-x4)   No      0.124388     \n",
      "h(x14-1.29452)     No      -0.232719    \n",
      "h(1.29452-x14)     No      -0.108239    \n",
      "h(x48+0.400551)    No      -0.878217    \n",
      "h(-0.400551-x48)   Yes     None         \n",
      "----------------------------------------\n",
      "MSE: 3.4562, GCV: 3.4888, RSQ: 0.1146, GRSQ: 0.1064\n"
     ]
    }
   ],
   "source": [
    "print(model_2.summary())"
   ]
  },
  {
   "cell_type": "code",
   "execution_count": null,
   "metadata": {},
   "outputs": [],
   "source": []
  },
  {
   "cell_type": "code",
   "execution_count": 58,
   "metadata": {},
   "outputs": [
    {
     "data": {
      "text/plain": [
       "((2394, 50, 24), 0.9353223164123017)"
      ]
     },
     "execution_count": 58,
     "metadata": {},
     "output_type": "execute_result"
    }
   ],
   "source": [
    "X_valid_attred, explained_var = attribute_reduction(X_valid, n_components=50)\n",
    "X_valid_attred.shape, explained_var"
   ]
  },
  {
   "cell_type": "code",
   "execution_count": 59,
   "metadata": {},
   "outputs": [
    {
     "data": {
      "text/plain": [
       "(2394, 50, 1)"
      ]
     },
     "execution_count": 59,
     "metadata": {},
     "output_type": "execute_result"
    }
   ],
   "source": [
    "X_valid_attred_timered = time_reduction(X_valid_attred, factor=24)\n",
    "X_valid_attred_timered.shape"
   ]
  },
  {
   "cell_type": "code",
   "execution_count": 63,
   "metadata": {},
   "outputs": [
    {
     "data": {
      "text/plain": [
       "(2394, 50)"
      ]
     },
     "execution_count": 63,
     "metadata": {},
     "output_type": "execute_result"
    }
   ],
   "source": [
    "X_valid_attred_timered_2d = X_valid_attred_timered.reshape((2394,-1))\n",
    "X_valid_attred_timered_2d.shape"
   ]
  },
  {
   "cell_type": "code",
   "execution_count": null,
   "metadata": {},
   "outputs": [],
   "source": []
  },
  {
   "cell_type": "code",
   "execution_count": 64,
   "metadata": {},
   "outputs": [
    {
     "data": {
      "text/plain": [
       "(2394, 104, 1)"
      ]
     },
     "execution_count": 64,
     "metadata": {},
     "output_type": "execute_result"
    }
   ],
   "source": [
    "X_valid_timered = time_reduction(X_valid, factor=24)\n",
    "X_valid_timered.shape"
   ]
  },
  {
   "cell_type": "code",
   "execution_count": 65,
   "metadata": {},
   "outputs": [
    {
     "data": {
      "text/plain": [
       "((2394, 50, 1), 0.9428063203092165)"
      ]
     },
     "execution_count": 65,
     "metadata": {},
     "output_type": "execute_result"
    }
   ],
   "source": [
    "X_valid_timered_attred, explained_var = attribute_reduction(X_valid_timered, n_components=50)\n",
    "X_valid_timered_attred.shape, explained_var"
   ]
  },
  {
   "cell_type": "code",
   "execution_count": 66,
   "metadata": {},
   "outputs": [
    {
     "data": {
      "text/plain": [
       "(2394, 50)"
      ]
     },
     "execution_count": 66,
     "metadata": {},
     "output_type": "execute_result"
    }
   ],
   "source": [
    "X_valid_timered_attred_2d = X_valid_timered_attred.reshape((2394,-1))\n",
    "X_valid_timered_attred_2d.shape"
   ]
  },
  {
   "cell_type": "code",
   "execution_count": null,
   "metadata": {},
   "outputs": [],
   "source": []
  },
  {
   "cell_type": "code",
   "execution_count": 72,
   "metadata": {},
   "outputs": [],
   "source": [
    "Y_pred_valid_1 = model_1.predict(X_valid_attred_timered_2d)\n",
    "Y_pred_valid_2 = model_2.predict(X_valid_timered_attred_2d)"
   ]
  },
  {
   "cell_type": "code",
   "execution_count": 83,
   "metadata": {},
   "outputs": [
    {
     "data": {
      "text/plain": [
       "(-0.42151839494688415, -0.19997696342137927)"
      ]
     },
     "execution_count": 83,
     "metadata": {},
     "output_type": "execute_result"
    }
   ],
   "source": [
    "from sklearn.metrics import r2_score\n",
    "model_1_r2 = r2_score(Y_valid, Y_pred_valid_1)\n",
    "model_2_r2 = r2_score(Y_valid, Y_pred_valid_2)\n",
    "model_1_r2, model_2_r2"
   ]
  },
  {
   "cell_type": "code",
   "execution_count": null,
   "metadata": {},
   "outputs": [],
   "source": []
  },
  {
   "cell_type": "code",
   "execution_count": 75,
   "metadata": {},
   "outputs": [
    {
     "data": {
      "text/plain": [
       "array([1.67847222, 5.90171296, 3.54657407, ..., 9.14388889, 6.12417824,\n",
       "       3.81853009])"
      ]
     },
     "execution_count": 75,
     "metadata": {},
     "output_type": "execute_result"
    }
   ],
   "source": [
    "Y_valid"
   ]
  },
  {
   "cell_type": "code",
   "execution_count": 74,
   "metadata": {},
   "outputs": [
    {
     "data": {
      "text/plain": [
       "array([4.2481763 , 4.02596773, 3.70813788, ..., 4.23503787, 5.52226533,\n",
       "       3.33064435])"
      ]
     },
     "execution_count": 74,
     "metadata": {},
     "output_type": "execute_result"
    }
   ],
   "source": [
    "Y_pred_valid_1"
   ]
  },
  {
   "cell_type": "code",
   "execution_count": 76,
   "metadata": {},
   "outputs": [
    {
     "data": {
      "text/plain": [
       "array([4.12816706, 4.71352202, 2.9411419 , ..., 2.8190631 , 2.7054267 ,\n",
       "       4.61445224])"
      ]
     },
     "execution_count": 76,
     "metadata": {},
     "output_type": "execute_result"
    }
   ],
   "source": [
    "Y_pred_valid_2"
   ]
  },
  {
   "cell_type": "code",
   "execution_count": null,
   "metadata": {},
   "outputs": [],
   "source": []
  },
  {
   "cell_type": "code",
   "execution_count": 85,
   "metadata": {},
   "outputs": [
    {
     "data": {
      "text/plain": [
       "Earth()"
      ]
     },
     "execution_count": 85,
     "metadata": {},
     "output_type": "execute_result"
    }
   ],
   "source": [
    "model_3 = Earth()\n",
    "model_3.fit(X_train_attred_2d, Y_train)\n",
    "\n",
    "model_4 = Earth()\n",
    "model_4.fit(X_train_timered_2d, Y_train)"
   ]
  },
  {
   "cell_type": "code",
   "execution_count": 86,
   "metadata": {},
   "outputs": [
    {
     "name": "stdout",
     "output_type": "stream",
     "text": [
      "Earth Model\n",
      "------------------------------------------\n",
      "Basis Function       Pruned  Coefficient  \n",
      "------------------------------------------\n",
      "(Intercept)          No      6.01862      \n",
      "h(x623-0.174826)     No      -0.188049    \n",
      "h(0.174826-x623)     No      0.269266     \n",
      "h(x454-3.03418)      No      1.10725      \n",
      "h(3.03418-x454)      No      -0.169514    \n",
      "h(x215-0.457798)     No      -0.0781365   \n",
      "h(0.457798-x215)     No      0.246628     \n",
      "h(x1007+0.1148)      No      0.367032     \n",
      "h(-0.1148-x1007)     No      -0.256112    \n",
      "h(x1109+0.0676292)   Yes     None         \n",
      "h(-0.0676292-x1109)  No      0.515741     \n",
      "h(x569-0.406555)     Yes     None         \n",
      "h(0.406555-x569)     No      0.193721     \n",
      "h(x380-1.07977)      No      -0.218557    \n",
      "h(1.07977-x380)      No      -0.233673    \n",
      "h(x431-0.0404379)    Yes     None         \n",
      "h(0.0404379-x431)    No      1.14603      \n",
      "h(x599+1.55043)      No      -0.149663    \n",
      "h(-1.55043-x599)     No      -1.22772     \n",
      "h(x958+0.026217)     No      0.326897     \n",
      "h(-0.026217-x958)    Yes     None         \n",
      "x671                 No      0.155732     \n",
      "h(x639-1.23354)      Yes     None         \n",
      "h(1.23354-x639)      No      0.183235     \n",
      "h(x919-0.0482356)    No      0.688244     \n",
      "h(0.0482356-x919)    Yes     None         \n",
      "h(x304+1.99177)      No      -0.156164    \n",
      "h(-1.99177-x304)     No      -0.412603    \n",
      "h(x23+4.63374)       No      -0.079348    \n",
      "h(-4.63374-x23)      Yes     None         \n",
      "h(x262-0.0385374)    No      0.187346     \n",
      "h(0.0385374-x262)    No      -0.0708683   \n",
      "h(x122-2.27679)      No      0.172662     \n",
      "h(2.27679-x122)      No      -0.0430123   \n",
      "h(x1055+1.0172)      No      -0.143764    \n",
      "h(-1.0172-x1055)     No      -0.545298    \n",
      "h(x1086-0.0139998)   No      0.185467     \n",
      "h(0.0139998-x1086)   No      0.371484     \n",
      "h(x1103-0.893715)    No      -0.428588    \n",
      "h(0.893715-x1103)    No      -0.292317    \n",
      "h(x42-2.57042)       Yes     None         \n",
      "h(2.57042-x42)       No      -0.0844137   \n",
      "h(x428+0.36163)      No      -0.141961    \n",
      "h(-0.36163-x428)     No      -2.20642     \n",
      "h(x235-2.07504)      Yes     None         \n",
      "h(2.07504-x235)      No      -0.1066      \n",
      "h(x478-0.087233)     No      0.239647     \n",
      "h(0.087233-x478)     Yes     None         \n",
      "h(x407-1.93064)      No      -1.12915     \n",
      "h(1.93064-x407)      Yes     None         \n",
      "h(x919+1.21686)      No      -0.57019     \n",
      "h(-1.21686-x919)     Yes     None         \n",
      "h(x143-0.0925398)    No      0.0995955    \n",
      "h(0.0925398-x143)    No      0.113455     \n",
      "h(x930+0.0272427)    No      0.289269     \n",
      "h(-0.0272427-x930)   Yes     None         \n",
      "h(x401-3.67917)      No      0.665539     \n",
      "h(3.67917-x401)      No      -0.122353    \n",
      "h(x357-1.10677)      No      0.276591     \n",
      "h(1.10677-x357)      No      -0.0479043   \n",
      "h(x95+2.78702)       No      0.0349259    \n",
      "h(-2.78702-x95)      No      -0.677069    \n",
      "h(x85+3.21246)       Yes     None         \n",
      "h(-3.21246-x85)      No      0.993701     \n",
      "h(x24-1.6959)        No      -0.100898    \n",
      "h(1.6959-x24)        Yes     None         \n",
      "x1182                No      0.134235     \n",
      "------------------------------------------\n",
      "MSE: 3.2871, GCV: 3.3381, RSQ: 0.1580, GRSQ: 0.1450\n"
     ]
    }
   ],
   "source": [
    "print(model_3.summary())"
   ]
  },
  {
   "cell_type": "code",
   "execution_count": 87,
   "metadata": {},
   "outputs": [
    {
     "name": "stdout",
     "output_type": "stream",
     "text": [
      "Earth Model\n",
      "-----------------------------------------\n",
      "Basis Function      Pruned  Coefficient  \n",
      "-----------------------------------------\n",
      "(Intercept)         No      7.62751      \n",
      "h(x36-0.260185)     No      1.92768      \n",
      "h(0.260185-x36)     No      -0.864811    \n",
      "h(x72+0.0202196)    No      1.90652      \n",
      "h(-0.0202196-x72)   No      0.469664     \n",
      "h(x11-0.105422)     No      0.0671171    \n",
      "h(0.105422-x11)     No      -0.336531    \n",
      "h(x63-0.00219819)   Yes     None         \n",
      "h(0.00219819-x63)   No      0.320706     \n",
      "x80                 No      0.345292     \n",
      "h(x72-0.271872)     No      -1.99825     \n",
      "h(0.271872-x72)     Yes     None         \n",
      "h(x87+0.127387)     No      0.210114     \n",
      "h(-0.127387-x87)    No      0.156416     \n",
      "h(x36+1.44115)      No      -1.62483     \n",
      "h(-1.44115-x36)     Yes     None         \n",
      "h(x94-0.0650407)    No      0.569798     \n",
      "h(0.0650407-x94)    Yes     None         \n",
      "h(x65-2.17499)      No      -6.75285     \n",
      "h(2.17499-x65)      No      -0.281892    \n",
      "h(x94+0.607522)     No      -0.62824     \n",
      "h(-0.607522-x94)    No      0.167121     \n",
      "h(x46-0.284105)     Yes     None         \n",
      "h(0.284105-x46)     No      0.233019     \n",
      "h(x13-0.000730852)  Yes     None         \n",
      "h(0.000730852-x13)  No      3.95975      \n",
      "h(x73+0.349051)     No      -2.29013     \n",
      "h(-0.349051-x73)    Yes     None         \n",
      "h(x73+0.0265959)    No      5.16867      \n",
      "h(-0.0265959-x73)   No      -0.600406    \n",
      "h(x0+0.0156155)     Yes     None         \n",
      "h(-0.0156155-x0)    No      0.841333     \n",
      "h(x64-0.89751)      Yes     None         \n",
      "h(0.89751-x64)      No      -0.213318    \n",
      "h(x37-0.725501)     No      -0.203273    \n",
      "h(0.725501-x37)     No      -0.200095    \n",
      "h(x73-0.188847)     No      -2.79064     \n",
      "h(0.188847-x73)     Yes     None         \n",
      "x33                 No      0.135787     \n",
      "h(x38+0.146172)     No      0.146731     \n",
      "h(-0.146172-x38)    No      0.112148     \n",
      "x66                 No      0.109708     \n",
      "h(x35-1.37415)      Yes     None         \n",
      "h(1.37415-x35)      No      -0.207539    \n",
      "h(x34-0.00854494)   No      0.5838       \n",
      "h(0.00854494-x34)   No      0.178373     \n",
      "h(x34-1.66293)      No      -2.36362     \n",
      "h(1.66293-x34)      Yes     None         \n",
      "x1                  No      -0.123384    \n",
      "h(x45-1.34249)      No      -0.321669    \n",
      "h(1.34249-x45)      Yes     None         \n",
      "h(x88-0.324874)     No      -0.558069    \n",
      "h(0.324874-x88)     No      -0.365935    \n",
      "h(x88-2.04565)      No      0.58405      \n",
      "h(2.04565-x88)      Yes     None         \n",
      "-----------------------------------------\n",
      "MSE: 3.3126, GCV: 3.3529, RSQ: 0.1514, GRSQ: 0.1412\n"
     ]
    }
   ],
   "source": [
    "print(model_4.summary())"
   ]
  },
  {
   "cell_type": "code",
   "execution_count": null,
   "metadata": {},
   "outputs": [],
   "source": []
  },
  {
   "cell_type": "code",
   "execution_count": 88,
   "metadata": {},
   "outputs": [
    {
     "data": {
      "text/plain": [
       "((2394, 50, 24), 0.9353063062047959)"
      ]
     },
     "execution_count": 88,
     "metadata": {},
     "output_type": "execute_result"
    }
   ],
   "source": [
    "X_valid_attred, explained_var = attribute_reduction(X_valid, n_components=50)\n",
    "X_valid_attred.shape, explained_var"
   ]
  },
  {
   "cell_type": "code",
   "execution_count": 89,
   "metadata": {},
   "outputs": [
    {
     "data": {
      "text/plain": [
       "(2394, 1200)"
      ]
     },
     "execution_count": 89,
     "metadata": {},
     "output_type": "execute_result"
    }
   ],
   "source": [
    "X_valid_attred_2d = X_valid_attred.reshape((2394,-1))\n",
    "X_valid_attred_2d.shape"
   ]
  },
  {
   "cell_type": "code",
   "execution_count": null,
   "metadata": {},
   "outputs": [],
   "source": []
  },
  {
   "cell_type": "code",
   "execution_count": 90,
   "metadata": {},
   "outputs": [
    {
     "data": {
      "text/plain": [
       "(2394, 104, 1)"
      ]
     },
     "execution_count": 90,
     "metadata": {},
     "output_type": "execute_result"
    }
   ],
   "source": [
    "X_valid_timered = time_reduction(X_valid, factor=24)\n",
    "X_valid_timered.shape"
   ]
  },
  {
   "cell_type": "code",
   "execution_count": 91,
   "metadata": {},
   "outputs": [
    {
     "data": {
      "text/plain": [
       "(2394, 104)"
      ]
     },
     "execution_count": 91,
     "metadata": {},
     "output_type": "execute_result"
    }
   ],
   "source": [
    "X_valid_timered_2d = X_valid_timered.reshape((2394,-1))\n",
    "X_valid_timered_2d.shape"
   ]
  },
  {
   "cell_type": "code",
   "execution_count": null,
   "metadata": {},
   "outputs": [],
   "source": []
  },
  {
   "cell_type": "code",
   "execution_count": 92,
   "metadata": {},
   "outputs": [],
   "source": [
    "Y_pred_valid_3 = model_3.predict(X_valid_attred_2d)\n",
    "Y_pred_valid_4 = model_4.predict(X_valid_timered_2d)"
   ]
  },
  {
   "cell_type": "code",
   "execution_count": null,
   "metadata": {},
   "outputs": [],
   "source": []
  },
  {
   "cell_type": "code",
   "execution_count": 93,
   "metadata": {},
   "outputs": [
    {
     "data": {
      "text/plain": [
       "(-0.16864823826425712, 0.1543887423371778)"
      ]
     },
     "execution_count": 93,
     "metadata": {},
     "output_type": "execute_result"
    }
   ],
   "source": [
    "from sklearn.metrics import r2_score\n",
    "model_3_r2 = r2_score(Y_valid, Y_pred_valid_3)\n",
    "model_4_r2 = r2_score(Y_valid, Y_pred_valid_4)\n",
    "model_3_r2, model_4_r2"
   ]
  },
  {
   "cell_type": "code",
   "execution_count": null,
   "metadata": {},
   "outputs": [],
   "source": []
  },
  {
   "cell_type": "code",
   "execution_count": 94,
   "metadata": {},
   "outputs": [
    {
     "data": {
      "text/plain": [
       "array([4.61770305, 4.11566832, 3.76346109, ..., 3.93101235, 3.67747942,\n",
       "       4.02765402])"
      ]
     },
     "execution_count": 94,
     "metadata": {},
     "output_type": "execute_result"
    }
   ],
   "source": [
    "Y_pred_valid_3"
   ]
  },
  {
   "cell_type": "code",
   "execution_count": 96,
   "metadata": {},
   "outputs": [
    {
     "data": {
      "text/plain": [
       "array([3.36504249, 4.1161113 , 3.64608449, ..., 4.74264511, 3.03255754,\n",
       "       3.02354274])"
      ]
     },
     "execution_count": 96,
     "metadata": {},
     "output_type": "execute_result"
    }
   ],
   "source": [
    "Y_pred_valid_4"
   ]
  },
  {
   "cell_type": "code",
   "execution_count": null,
   "metadata": {},
   "outputs": [],
   "source": []
  },
  {
   "cell_type": "code",
   "execution_count": 97,
   "metadata": {},
   "outputs": [
    {
     "data": {
      "text/plain": [
       "(16760, 2496)"
      ]
     },
     "execution_count": 97,
     "metadata": {},
     "output_type": "execute_result"
    }
   ],
   "source": [
    "X_train_2d = X_train.reshape((16760,-1))\n",
    "X_train_2d.shape"
   ]
  },
  {
   "cell_type": "code",
   "execution_count": 98,
   "metadata": {},
   "outputs": [
    {
     "data": {
      "text/plain": [
       "Earth()"
      ]
     },
     "execution_count": 98,
     "metadata": {},
     "output_type": "execute_result"
    }
   ],
   "source": [
    "full_model = Earth()\n",
    "full_model.fit(X_train_2d, Y_train)"
   ]
  },
  {
   "cell_type": "code",
   "execution_count": 99,
   "metadata": {},
   "outputs": [
    {
     "name": "stdout",
     "output_type": "stream",
     "text": [
      "Earth Model\n",
      "------------------------------------------\n",
      "Basis Function       Pruned  Coefficient  \n",
      "------------------------------------------\n",
      "(Intercept)          No      3.78486      \n",
      "x887                 No      -0.533202    \n",
      "h(x1512+0.0345025)   No      0.0752644    \n",
      "h(-0.0345025-x1512)  No      0.48439      \n",
      "h(x287-5.56036)      Yes     None         \n",
      "h(5.56036-x287)      No      -0.516526    \n",
      "h(x312-0.130466)     Yes     None         \n",
      "h(0.130466-x312)     No      5.67042      \n",
      "h(x1775-5.78469)     Yes     None         \n",
      "h(5.78469-x1775)     No      -0.216875    \n",
      "h(x2256-0.442305)    No      0.140769     \n",
      "h(0.442305-x2256)    No      0.330827     \n",
      "x1943                No      0.283736     \n",
      "h(x2230-2.94535)     No      1.81885      \n",
      "h(2.94535-x2230)     No      -0.118918    \n",
      "x1567                No      0.20818      \n",
      "h(x264-6.209)        Yes     None         \n",
      "h(6.209-x264)        No      0.334525     \n",
      "x1103                No      -0.236371    \n",
      "h(x1127-6.90605)     No      1.8568       \n",
      "h(6.90605-x1127)     No      0.113552     \n",
      "h(x1553-3.26475)     No      -0.368026    \n",
      "h(3.26475-x1553)     No      -0.155159    \n",
      "h(x0-0.167974)       Yes     None         \n",
      "h(0.167974-x0)       No      0.761326     \n",
      "x30                  No      -0.156452    \n",
      "x1607                No      0.161625     \n",
      "h(x2092+0.526084)    No      0.0826136    \n",
      "h(-0.526084-x2092)   No      0.146229     \n",
      "h(x2471-3.23161)     Yes     None         \n",
      "h(3.23161-x2471)     No      -0.319836    \n",
      "h(x1702-3.78007)     No      -1.12641     \n",
      "h(3.78007-x1702)     No      0.0763188    \n",
      "h(x1585-0.141336)    Yes     None         \n",
      "h(0.141336-x1585)    No      0.128673     \n",
      "h(x2459-7.49344)     Yes     None         \n",
      "h(7.49344-x2459)     No      0.211744     \n",
      "x805                 No      0.138338     \n",
      "h(x370-0.00997425)   No      0.182313     \n",
      "h(0.00997425-x370)   No      0.263423     \n",
      "h(x817-1.72484)      No      0.752465     \n",
      "h(1.72484-x817)      Yes     None         \n",
      "h(x2254+2.94347)     No      -0.0881627   \n",
      "h(-2.94347-x2254)    No      -0.776875    \n",
      "h(x293-3.24444)      No      1.00588      \n",
      "h(3.24444-x293)      No      -0.0637756   \n",
      "------------------------------------------\n",
      "MSE: 3.3282, GCV: 3.3646, RSQ: 0.1474, GRSQ: 0.1382\n"
     ]
    }
   ],
   "source": [
    "print(full_model.summary())"
   ]
  },
  {
   "cell_type": "code",
   "execution_count": null,
   "metadata": {},
   "outputs": [],
   "source": []
  },
  {
   "cell_type": "code",
   "execution_count": 100,
   "metadata": {},
   "outputs": [
    {
     "data": {
      "text/plain": [
       "(2394, 2496)"
      ]
     },
     "execution_count": 100,
     "metadata": {},
     "output_type": "execute_result"
    }
   ],
   "source": [
    "X_valid_2d = X_valid.reshape((2394,-1))\n",
    "X_valid_2d.shape"
   ]
  },
  {
   "cell_type": "code",
   "execution_count": 102,
   "metadata": {},
   "outputs": [],
   "source": [
    "Y_pred_full = full_model.predict(X_valid_2d)"
   ]
  },
  {
   "cell_type": "code",
   "execution_count": 103,
   "metadata": {},
   "outputs": [
    {
     "data": {
      "text/plain": [
       "0.13712012727545042"
      ]
     },
     "execution_count": 103,
     "metadata": {},
     "output_type": "execute_result"
    }
   ],
   "source": [
    "from sklearn.metrics import r2_score\n",
    "full_model_r2 = r2_score(Y_valid, Y_pred_full)\n",
    "full_model_r2"
   ]
  },
  {
   "cell_type": "code",
   "execution_count": 104,
   "metadata": {},
   "outputs": [
    {
     "data": {
      "text/plain": [
       "array([3.05595024, 4.94277173, 3.62239832, ..., 4.58804563, 3.24632155,\n",
       "       3.30430503])"
      ]
     },
     "execution_count": 104,
     "metadata": {},
     "output_type": "execute_result"
    }
   ],
   "source": [
    "Y_pred_full"
   ]
  },
  {
   "cell_type": "code",
   "execution_count": null,
   "metadata": {},
   "outputs": [],
   "source": []
  },
  {
   "cell_type": "code",
   "execution_count": null,
   "metadata": {},
   "outputs": [],
   "source": []
  }
 ],
 "metadata": {
  "kernelspec": {
   "display_name": "Python 3",
   "language": "python",
   "name": "python3"
  },
  "language_info": {
   "codemirror_mode": {
    "name": "ipython",
    "version": 3
   },
   "file_extension": ".py",
   "mimetype": "text/x-python",
   "name": "python",
   "nbconvert_exporter": "python",
   "pygments_lexer": "ipython3",
   "version": "3.8.5"
  }
 },
 "nbformat": 4,
 "nbformat_minor": 5
}
