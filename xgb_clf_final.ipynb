{
 "cells": [
  {
   "cell_type": "code",
   "execution_count": 21,
   "metadata": {},
   "outputs": [],
   "source": [
    "import pandas as pd\n",
    "import numpy as np\n",
    "import xgboost as xgb\n",
    "import seaborn as sns\n",
    "from sklearn.metrics import classification_report, confusion_matrix"
   ]
  },
  {
   "cell_type": "code",
   "execution_count": 27,
   "metadata": {},
   "outputs": [],
   "source": [
    "X_train = pd.read_csv(\"./Datasets/X_train.csv\", index_col=[0], header=[0, 1, 2])\n",
    "y_train = pd.read_csv(\"./Datasets/Y_train.csv\", index_col=[0], header=[0])\n",
    "X_valid = pd.read_csv(\"./Datasets/X_valid.csv\", index_col=[0], header=[0, 1, 2])\n",
    "y_valid = pd.read_csv(\"./Datasets/Y_valid.csv\", index_col=[0], header=[0])\n",
    "X_test = pd.read_csv(\"./Datasets/X_test.csv\", index_col=[0], header=[0, 1, 2])"
   ]
  },
  {
   "cell_type": "code",
   "execution_count": 15,
   "metadata": {},
   "outputs": [
    {
     "data": {
      "text/plain": [
       "12.681632653061225"
      ]
     },
     "execution_count": 15,
     "metadata": {},
     "output_type": "execute_result"
    }
   ],
   "source": [
    "# Determine the class weight\n",
    "pos_count = len(y_train[y_train[\"mort_icu\"] == 1])\n",
    "neg_count = len(y_train[y_train[\"mort_icu\"] == 0])\n",
    "scale_pos_weight = neg_count / pos_count\n",
    "scale_pos_weight"
   ]
  },
  {
   "cell_type": "code",
   "execution_count": null,
   "metadata": {},
   "outputs": [],
   "source": [
    "# Phase 1: L2-regularization\n",
    "\n",
    "# Round 1 Cross Validation(CV)\n",
    "# param_grid = {\n",
    "#     \"max_depth\": [3,4,5],\n",
    "#     \"learning_rate\": [0.01, 0.05, 0.1],\n",
    "#     \"gamma\": [0.1,0.25,1],\n",
    "#     \"reg_lambda\": [0,10,50],\n",
    "#     \"scale_pos_weight\": [11,12,13,14]\n",
    "# }\n",
    "# Best params: {'gamma': 1, 'learning_rate': 0.1, 'max_depth': 4, 'reg_lambda': 50, 'scale_pos_weight': 11}\n",
    "\n",
    "# Round 2 CV\n",
    "# param_grid = {\n",
    "#     \"max_depth\": [4],\n",
    "#     \"learning_rate\": [0.1,0.2,0.5],\n",
    "#     \"gamma\": [1,2,10],\n",
    "#     \"reg_lambda\": [50,70,100],\n",
    "#     \"scale_pos_weight\": [8,9,10,11]\n",
    "# }\n",
    "# Best params: {'gamma': 1, 'learning_rate': 0.2, 'max_depth': 4, 'reg_lambda': 50, 'scale_pos_weight': 9}\n",
    "\n",
    "# Phase 2: l1-regularization\n",
    "\n",
    "# Round 1 CV\n",
    "# param_grid = {\n",
    "#     \"max_depth\": [3,4,5],\n",
    "#     \"learning_rate\": [0.1,0.2,1],\n",
    "#     \"gamma\": [0.1,0.2,1],\n",
    "#     \"alpha\": [50,70,100],\n",
    "#     \"scale_pos_weight\": [11,12,13]\n",
    "# }\n",
    "# Best params: {'alpha': 50, 'gamma': 0.2, 'learning_rate': 0.2, 'max_depth': 5, 'scale_pos_weight': 11}\n",
    "\n",
    "# Round 2 CV\n",
    "# param_grid = {\n",
    "#     \"max_depth\": [5,6,7],\n",
    "#     \"learning_rate\": [0.2,0.4,0.6],\n",
    "#     \"gamma\": [0.2,0.4,0.6],\n",
    "#     \"alpha\": [50],\n",
    "#     \"scale_pos_weight\": [9,10,11]\n",
    "# }\n",
    "# Best params: {'alpha': 50, 'gamma': 0.2, 'learning_rate': 0.2, 'max_depth': 7, 'scale_pos_weight': 9}\n",
    "\n",
    "# Round 3 CV\n",
    "# param_grid = {\n",
    "#     \"max_depth\": [7,8],\n",
    "#     \"learning_rate\": [0.2,0.3],\n",
    "#     \"gamma\": [0.2,0.3],\n",
    "#     \"alpha\": [50],\n",
    "#     \"scale_pos_weight\": [8,9]\n",
    "# }\n",
    "# Best params: {'alpha': 50, 'gamma': 0.2, 'learning_rate': 0.3, 'max_depth': 7, 'scale_pos_weight': 8}\n",
    "\n",
    "opt_params = GridSearchCV(\n",
    "    estimator=xgb.XGBRegressor(objective=\"reg:squarederror\", tree_method=\"gpu_hist\", eval_metric=\"rmse\", use_label_encoder=False, seed=42,subsample=0.9,colsample_bytree=0.5),\n",
    "    param_grid=param_grid,\n",
    "    scoring=\"neg_root_mean_squared_error\",\n",
    "    verbose=0,\n",
    "    n_jobs=10,\n",
    "    cv=5\n",
    ")\n",
    "opt_params.fit(X_train, y_train)"
   ]
  },
  {
   "cell_type": "code",
   "execution_count": null,
   "metadata": {},
   "outputs": [],
   "source": [
    "print(opt_params.best_score_)\n",
    "print(opt_params.best_params_)"
   ]
  },
  {
   "cell_type": "code",
   "execution_count": 17,
   "metadata": {},
   "outputs": [
    {
     "data": {
      "text/plain": [
       "XGBClassifier(alpha=50, base_score=0.5, booster='gbtree', colsample_bylevel=1,\n",
       "              colsample_bynode=1, colsample_bytree=1, enable_categorical=False,\n",
       "              eval_metric='auc', gamma=0.2, gpu_id=0, importance_type=None,\n",
       "              interaction_constraints='', learning_rate=0.3, max_delta_step=0,\n",
       "              max_depth=7, min_child_weight=1, missing=nan,\n",
       "              monotone_constraints='()', n_estimators=100, n_jobs=4,\n",
       "              num_parallel_tree=1, predictor='auto', random_state=42,\n",
       "              reg_alpha=50, reg_lambda=1, scale_pos_weight=9, seed=42,\n",
       "              subsample=1, tree_method='gpu_hist', use_label_encoder=False, ...)"
      ]
     },
     "execution_count": 17,
     "metadata": {},
     "output_type": "execute_result"
    }
   ],
   "source": [
    "# Classification\n",
    "clf = xgb.XGBClassifier(objective=\"binary:logistic\",\n",
    "                        tree_method=\"gpu_hist\", \n",
    "                        eval_metric=\"auc\", \n",
    "                        use_label_encoder=False, \n",
    "                        gamma=0.2, \n",
    "                        learning_rate=0.3, \n",
    "                        max_depth=7,\n",
    "                        alpha=50,\n",
    "                        scale_pos_weight=9, \n",
    "                        seed=42)\n",
    "clf.fit(X_train, y_train, verbose=0, eval_set=[(X_valid, y_valid)])"
   ]
  },
  {
   "cell_type": "code",
   "execution_count": 25,
   "metadata": {},
   "outputs": [
    {
     "name": "stdout",
     "output_type": "stream",
     "text": [
      "              precision    recall  f1-score   support\n",
      "\n",
      "           0       0.95      0.97      0.96      2187\n",
      "           1       0.57      0.42      0.48       207\n",
      "\n",
      "    accuracy                           0.92      2394\n",
      "   macro avg       0.76      0.69      0.72      2394\n",
      "weighted avg       0.91      0.92      0.92      2394\n",
      "\n"
     ]
    },
    {
     "data": {
      "text/plain": [
       "<AxesSubplot:>"
      ]
     },
     "execution_count": 25,
     "metadata": {},
     "output_type": "execute_result"
    },
    {
     "data": {
      "image/png": "[encoded data removed]",
      "text/plain": [
       "<Figure size 640x480 with 2 Axes>"
      ]
     },
     "metadata": {},
     "output_type": "display_data"
    }
   ],
   "source": [
    "y_pred = clf.predict(X_valid)\n",
    "print(classification_report(y_pred, y_valid))\n",
    "sns.heatmap(confusion_matrix(y_valid, y_pred), cmap=\"Blues\", annot=True, fmt=\"d\")"
   ]
  },
  {
   "cell_type": "markdown",
   "metadata": {},
   "source": [
    "# Final model"
   ]
  },
  {
   "cell_type": "code",
   "execution_count": 28,
   "metadata": {},
   "outputs": [],
   "source": [
    "X_final = pd.concat([X_train, X_valid])\n",
    "y_final = pd.concat([y_train, y_valid])"
   ]
  },
  {
   "cell_type": "code",
   "execution_count": 33,
   "metadata": {},
   "outputs": [
    {
     "data": {
      "text/plain": [
       "XGBClassifier(base_score=0.5, booster='gbtree', colsample_bylevel=1,\n",
       "              colsample_bynode=1, colsample_bytree=1, enable_categorical=False,\n",
       "              eval_metric='auc', gamma=1, gpu_id=0, importance_type=None,\n",
       "              interaction_constraints='', learning_rate=0.2, max_delta_step=0,\n",
       "              max_depth=4, min_child_weight=1, missing=nan,\n",
       "              monotone_constraints='()', n_estimators=100, n_jobs=4,\n",
       "              num_parallel_tree=1, predictor='auto', random_state=42,\n",
       "              reg_alpha=0, reg_lambda=50, scale_pos_weight=11, seed=42,\n",
       "              subsample=1, tree_method='gpu_hist', use_label_encoder=False,\n",
       "              validate_parameters=1, ...)"
      ]
     },
     "execution_count": 33,
     "metadata": {},
     "output_type": "execute_result"
    }
   ],
   "source": [
    "# Finalized model\n",
    "clf = xgb.XGBClassifier(objective=\"binary:logistic\",\n",
    "                        tree_method=\"gpu_hist\", \n",
    "                        eval_metric=\"auc\", \n",
    "                        use_label_encoder=False, \n",
    "                        gamma=1, \n",
    "                        learning_rate=0.2, \n",
    "                        max_depth=4,\n",
    "                        reg_lambda=50,\n",
    "                        scale_pos_weight=11, \n",
    "                        seed=42)\n",
    "clf.fit(X_final, y_final)"
   ]
  },
  {
   "cell_type": "code",
   "execution_count": 34,
   "metadata": {},
   "outputs": [
    {
     "data": {
      "text/html": [
       "<div>\n",
       "<style scoped>\n",
       "    .dataframe tbody tr th:only-of-type {\n",
       "        vertical-align: middle;\n",
       "    }\n",
       "\n",
       "    .dataframe tbody tr th {\n",
       "        vertical-align: top;\n",
       "    }\n",
       "\n",
       "    .dataframe thead th {\n",
       "        text-align: right;\n",
       "    }\n",
       "</style>\n",
       "<table border=\"1\" class=\"dataframe\">\n",
       "  <thead>\n",
       "    <tr style=\"text-align: right;\">\n",
       "      <th></th>\n",
       "      <th>Id</th>\n",
       "      <th>Predicted</th>\n",
       "    </tr>\n",
       "  </thead>\n",
       "  <tbody>\n",
       "    <tr>\n",
       "      <th>0</th>\n",
       "      <td>32_175413_295037</td>\n",
       "      <td>0.129866</td>\n",
       "    </tr>\n",
       "    <tr>\n",
       "      <th>1</th>\n",
       "      <td>33_176176_296681</td>\n",
       "      <td>0.018472</td>\n",
       "    </tr>\n",
       "    <tr>\n",
       "      <th>2</th>\n",
       "      <td>42_119203_210828</td>\n",
       "      <td>0.021393</td>\n",
       "    </tr>\n",
       "    <tr>\n",
       "      <th>3</th>\n",
       "      <td>44_181750_291554</td>\n",
       "      <td>0.003586</td>\n",
       "    </tr>\n",
       "    <tr>\n",
       "      <th>4</th>\n",
       "      <td>61_176332_252348</td>\n",
       "      <td>0.038856</td>\n",
       "    </tr>\n",
       "  </tbody>\n",
       "</table>\n",
       "</div>"
      ],
      "text/plain": [
       "                 Id  Predicted\n",
       "0  32_175413_295037   0.129866\n",
       "1  33_176176_296681   0.018472\n",
       "2  42_119203_210828   0.021393\n",
       "3  44_181750_291554   0.003586\n",
       "4  61_176332_252348   0.038856"
      ]
     },
     "execution_count": 34,
     "metadata": {},
     "output_type": "execute_result"
    }
   ],
   "source": [
    "y_prob = clf.predict_proba(X_test)\n",
    "y_prob_pred = list()\n",
    "\n",
    "for prob in y_prob:\n",
    "    y_prob_pred.append(prob[1])\n",
    "\n",
    "y_out = pd.DataFrame(data=X_test.index,columns=[\"Id\"])\n",
    "y_out[\"Predicted\"]=y_prob_pred\n",
    "y_out.head()"
   ]
  },
  {
   "cell_type": "code",
   "execution_count": 46,
   "metadata": {},
   "outputs": [],
   "source": [
    "y_out.to_csv(\"Best L2 result.csv\", index=False)"
   ]
  },
  {
   "cell_type": "code",
   "execution_count": null,
   "metadata": {},
   "outputs": [],
   "source": []
  }
 ],
 "metadata": {
  "kernelspec": {
   "display_name": "stat3612",
   "language": "python",
   "name": "stat3612"
  },
  "language_info": {
   "codemirror_mode": {
    "name": "ipython",
    "version": 3
   },
   "file_extension": ".py",
   "mimetype": "text/x-python",
   "name": "python",
   "nbconvert_exporter": "python",
   "pygments_lexer": "ipython3",
   "version": "3.7.15"
  }
 },
 "nbformat": 4,
 "nbformat_minor": 4
}
